{
 "cells": [
  {
   "cell_type": "markdown",
   "metadata": {},
   "source": [
    "# 파이썬 기초 문법 - 클래스\n",
    "\n",
    "### 클래스(class)\n",
    "\n",
    "> 똑같은 무언가를 계속 만들어 낼 수 있는 설계 도면\n",
    "\n",
    "### 객체(object)\n",
    "\n",
    "> 클래스로 만든 피조물\n",
    "\n",
    "#### 클래스로 만든 객체의 특징\n",
    "\n",
    "- 객체마다 고유한 성격을 가짐\n",
    "- 동일한 클래스로 만든 객체들은 서로 전혀 영향을 주지 않음"
   ]
  },
  {
   "cell_type": "code",
   "execution_count": 2,
   "metadata": {},
   "outputs": [],
   "source": [
    "class Cookie:\n",
    "    a = 0\n",
    "\n",
    "a = Cookie()\n",
    "b = Cookie()"
   ]
  },
  {
   "cell_type": "markdown",
   "metadata": {},
   "source": [
    "### 메서드\n",
    "\n",
    "> 클래스 안에 구현된 함수\n",
    "\n",
    "- 메서드도 클래스에 포함되어 있다는 점만 제외하면 일반 함수와 다를 것이 없음"
   ]
  },
  {
   "cell_type": "code",
   "execution_count": 3,
   "metadata": {},
   "outputs": [
    {
     "name": "stdout",
     "output_type": "stream",
     "text": [
      "1 2\n"
     ]
    }
   ],
   "source": [
    "class Test:\n",
    "    def setData(self, a, b):\n",
    "        self.a = a\n",
    "        self.b = b\n",
    "    \n",
    "    def display(self):\n",
    "        print(self.a, self.b)\n",
    "\n",
    "a = Test()\n",
    "a.setData(1, 2)\n",
    "a.display()"
   ]
  }
 ],
 "metadata": {
  "kernelspec": {
   "display_name": "Python 3",
   "language": "python",
   "name": "python3"
  },
  "language_info": {
   "codemirror_mode": {
    "name": "ipython",
    "version": 3
   },
   "file_extension": ".py",
   "mimetype": "text/x-python",
   "name": "python",
   "nbconvert_exporter": "python",
   "pygments_lexer": "ipython3",
   "version": "3.9.7"
  }
 },
 "nbformat": 4,
 "nbformat_minor": 2
}
