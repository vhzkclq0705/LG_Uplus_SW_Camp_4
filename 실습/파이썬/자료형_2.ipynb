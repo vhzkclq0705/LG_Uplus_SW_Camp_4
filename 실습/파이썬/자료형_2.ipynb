{
 "cells": [
  {
   "cell_type": "markdown",
   "metadata": {},
   "source": [
    "# 파이썬 문법의 기초 - 자료형_2\n",
    "\n",
    "**튜플, 딕셔너리, 집합에 대한 기본 내용**\n",
    "\n",
    "## 튜플(tuple)\n",
    "\n",
    "- 리스트와 유사한 자료형\n",
    "- 튜플은 1개의 요소만을 가질 때는, 요소 뒤에 반드시 쉼표(,)를 붙여야 함\n",
    "- 소괄호()를 생략해도 무방\n",
    "- 프로그램이 실행되는 동안 `값을 유지`해야 한다면 튜플을, 수시로 값을 변경해야 하면 리스트 사용\n",
    "\n",
    "|list|tuple|\n",
    "|---|---|\n",
    "|[]로 둘러쌈|()로 둘러쌈|\n",
    "|요솟값 생성, 삭제, 수정 가능|요솟값 변경 불가능|"
   ]
  },
  {
   "cell_type": "code",
   "execution_count": 1,
   "metadata": {},
   "outputs": [],
   "source": [
    "example_tuple = ()\n",
    "example_tuple = (1,)\n",
    "example_tuple = (1, 2, 3)\n",
    "example_tuple = 1, 2, 3\n",
    "example_tuple = ('a', 'b', ('cd', 'ef'))"
   ]
  },
  {
   "cell_type": "markdown",
   "metadata": {},
   "source": [
    "### 튜플 다루기\n",
    "\n",
    "#### 인덱싱"
   ]
  },
  {
   "cell_type": "code",
   "execution_count": 2,
   "metadata": {},
   "outputs": [
    {
     "data": {
      "text/plain": [
       "'a'"
      ]
     },
     "execution_count": 2,
     "metadata": {},
     "output_type": "execute_result"
    }
   ],
   "source": [
    "example_tuple[0]"
   ]
  },
  {
   "cell_type": "code",
   "execution_count": 3,
   "metadata": {},
   "outputs": [
    {
     "data": {
      "text/plain": [
       "'cd'"
      ]
     },
     "execution_count": 3,
     "metadata": {},
     "output_type": "execute_result"
    }
   ],
   "source": [
    "example_tuple[-1][0]"
   ]
  },
  {
   "cell_type": "markdown",
   "metadata": {},
   "source": [
    "#### 슬라이싱"
   ]
  },
  {
   "cell_type": "code",
   "execution_count": 4,
   "metadata": {},
   "outputs": [
    {
     "data": {
      "text/plain": [
       "('b', ('cd', 'ef'))"
      ]
     },
     "execution_count": 4,
     "metadata": {},
     "output_type": "execute_result"
    }
   ],
   "source": [
    "example_tuple[1:]"
   ]
  },
  {
   "cell_type": "markdown",
   "metadata": {},
   "source": [
    "#### 덧셈 및 곱셈"
   ]
  },
  {
   "cell_type": "code",
   "execution_count": 5,
   "metadata": {},
   "outputs": [
    {
     "data": {
      "text/plain": [
       "(1, 2, 'c', 'd', 3, 4)"
      ]
     },
     "execution_count": 5,
     "metadata": {},
     "output_type": "execute_result"
    }
   ],
   "source": [
    "example_tuple1 = (1, 2, 'c', 'd')\n",
    "example_tuple2 = (3, 4)\n",
    "\n",
    "example_tuple1 + example_tuple2"
   ]
  },
  {
   "cell_type": "markdown",
   "metadata": {},
   "source": [
    "#### 길이 구하기"
   ]
  },
  {
   "cell_type": "code",
   "execution_count": 6,
   "metadata": {},
   "outputs": [
    {
     "data": {
      "text/plain": [
       "3"
      ]
     },
     "execution_count": 6,
     "metadata": {},
     "output_type": "execute_result"
    }
   ],
   "source": [
    "len(example_tuple)"
   ]
  },
  {
   "cell_type": "markdown",
   "metadata": {},
   "source": [
    "## 딕셔너리(dictionary)\n",
    "\n",
    "- 대응 관계를 나타내는 자료형\n",
    "- 연관 배열 또는 `해시`\n",
    "- `Key`와 `Value`를 한 쌍으로 갖는 자료형\n",
    "- 순차적으로 해당 요솟값을 구하지 않고, Key: Value를 바로 얻는 것이 특징\n",
    "\n",
    "<br>\n",
    "\n",
    "- Key와 Value의 쌍 여러 개 `(Key: Value)`가 `{}`로 둘러싸임\n",
    "- 각 요소는 쉼표(,)로 구분됨\n"
   ]
  },
  {
   "cell_type": "code",
   "execution_count": 7,
   "metadata": {},
   "outputs": [],
   "source": [
    "example_dictionary = {'name': 'jerry', 'birth': '0126'}\n",
    "example_dictionary = {1: 'hi', 'a': [1, 2, 3]}"
   ]
  },
  {
   "cell_type": "markdown",
   "metadata": {},
   "source": [
    "### 요소 추가, 삭제"
   ]
  },
  {
   "cell_type": "code",
   "execution_count": 8,
   "metadata": {},
   "outputs": [
    {
     "data": {
      "text/plain": [
       "{1: 'hi', 'a': [1, 2, 3], 100: 'bbb'}"
      ]
     },
     "execution_count": 8,
     "metadata": {},
     "output_type": "execute_result"
    }
   ],
   "source": [
    "example_dictionary[100] = 'bbb' # (100: 'bbb') 쌍 추가\n",
    "\n",
    "example_dictionary"
   ]
  },
  {
   "cell_type": "code",
   "execution_count": 9,
   "metadata": {},
   "outputs": [
    {
     "data": {
      "text/plain": [
       "{1: 'hi', 'a': [1, 2, 3]}"
      ]
     },
     "execution_count": 9,
     "metadata": {},
     "output_type": "execute_result"
    }
   ],
   "source": [
    "del example_dictionary[100] # Key가 100인 Key: Value 쌍 삭제\n",
    "\n",
    "example_dictionary"
   ]
  },
  {
   "cell_type": "markdown",
   "metadata": {},
   "source": [
    "### Key를 사용해 Value 얻기\n",
    "\n",
    "- 리스트나 튜플, 문자열은 요솟값 접근 시, 인덱싱이나 슬라이싱 기법 중 하나를 사용\n",
    "- 딕셔너리는 Key를 사용해 Value 접근"
   ]
  },
  {
   "cell_type": "code",
   "execution_count": 10,
   "metadata": {},
   "outputs": [
    {
     "data": {
      "text/plain": [
       "'hi'"
      ]
     },
     "execution_count": 10,
     "metadata": {},
     "output_type": "execute_result"
    }
   ],
   "source": [
    "example_dictionary[1] # Key가 1인 요소의 Value"
   ]
  },
  {
   "cell_type": "markdown",
   "metadata": {},
   "source": [
    "### 주의사항\n",
    "\n",
    "- 딕셔너리에는 동일한 `Key가 중복으로 존재할 수 없음`\n",
    "- 리스트는 값이 변할 수 있기 때문에 Key로 쓸 수 없고, Value에는 아무 값이나 가능"
   ]
  },
  {
   "cell_type": "code",
   "execution_count": 11,
   "metadata": {},
   "outputs": [
    {
     "data": {
      "text/plain": [
       "{1: 'b'}"
      ]
     },
     "execution_count": 11,
     "metadata": {},
     "output_type": "execute_result"
    }
   ],
   "source": [
    "example_dictionary = {1: 'a', 1: 'b'} # 1이라는 Key가 중복됨\n",
    "\n",
    "example_dictionary # 1: 'a' 쌍이 무시됨"
   ]
  },
  {
   "cell_type": "code",
   "execution_count": 12,
   "metadata": {},
   "outputs": [],
   "source": [
    "# 에러 발생\n",
    "# example_dictionary = {[1, 2]: 'ab'}"
   ]
  },
  {
   "cell_type": "markdown",
   "metadata": {},
   "source": [
    "### 관련 함수\n",
    "\n",
    "#### Key 리스트(keys)\n",
    "\n",
    "- Key만을 모아서 dict_keys 객체 반환"
   ]
  },
  {
   "cell_type": "code",
   "execution_count": 13,
   "metadata": {},
   "outputs": [
    {
     "data": {
      "text/plain": [
       "dict_keys(['name', 1, 'hi'])"
      ]
     },
     "execution_count": 13,
     "metadata": {},
     "output_type": "execute_result"
    }
   ],
   "source": [
    "example_dictionary = {'name': 'jerry', 1: 'a', 'hi': [1, 2, 3]}\n",
    "\n",
    "example_dictionary.keys()"
   ]
  },
  {
   "cell_type": "code",
   "execution_count": 14,
   "metadata": {},
   "outputs": [
    {
     "data": {
      "text/plain": [
       "['name', 1, 'hi']"
      ]
     },
     "execution_count": 14,
     "metadata": {},
     "output_type": "execute_result"
    }
   ],
   "source": [
    "list(example_dictionary.keys()) # dict_keys 객체를 리스트로 변환"
   ]
  },
  {
   "cell_type": "markdown",
   "metadata": {},
   "source": [
    "#### Value 리스트(values)\n",
    "\n",
    "- Value만을 모아 dict_values 객체 반환"
   ]
  },
  {
   "cell_type": "code",
   "execution_count": 15,
   "metadata": {},
   "outputs": [
    {
     "data": {
      "text/plain": [
       "dict_values(['jerry', 'a', [1, 2, 3]])"
      ]
     },
     "execution_count": 15,
     "metadata": {},
     "output_type": "execute_result"
    }
   ],
   "source": [
    "example_dictionary.values()"
   ]
  },
  {
   "cell_type": "markdown",
   "metadata": {},
   "source": [
    "#### Key, Value 쌍 얻기(items)\n",
    "\n",
    "- Key와 Value의 쌍을 튜플로 묶어 dict_items 객체 리턴"
   ]
  },
  {
   "cell_type": "code",
   "execution_count": 16,
   "metadata": {},
   "outputs": [
    {
     "data": {
      "text/plain": [
       "dict_items([('name', 'jerry'), (1, 'a'), ('hi', [1, 2, 3])])"
      ]
     },
     "execution_count": 16,
     "metadata": {},
     "output_type": "execute_result"
    }
   ],
   "source": [
    "example_dictionary.items()"
   ]
  },
  {
   "cell_type": "markdown",
   "metadata": {},
   "source": [
    "#### Key: Value 쌍 모두 지우기(clear)\n",
    "\n",
    "- 딕셔너리 내의 모든 요소 삭제\n",
    "- 빈 딕셔너리는 `{}`로 표현"
   ]
  },
  {
   "cell_type": "code",
   "execution_count": 17,
   "metadata": {},
   "outputs": [
    {
     "data": {
      "text/plain": [
       "{}"
      ]
     },
     "execution_count": 17,
     "metadata": {},
     "output_type": "execute_result"
    }
   ],
   "source": [
    "example_dictionary.clear()\n",
    "\n",
    "example_dictionary"
   ]
  },
  {
   "cell_type": "markdown",
   "metadata": {},
   "source": [
    "#### Key가 있는지 확인(in)\n",
    "\n",
    "- Key가 딕셔너리 안에 존재하면 True, 존재하지 않으면 False 반환"
   ]
  },
  {
   "cell_type": "code",
   "execution_count": 18,
   "metadata": {},
   "outputs": [
    {
     "data": {
      "text/plain": [
       "True"
      ]
     },
     "execution_count": 18,
     "metadata": {},
     "output_type": "execute_result"
    }
   ],
   "source": [
    "example_dictionary = {1: 'a', 2: 'b', 'Hi': 'I\\'m Jerry'}\n",
    "\n",
    "'Hi' in example_dictionary"
   ]
  },
  {
   "cell_type": "code",
   "execution_count": 19,
   "metadata": {},
   "outputs": [
    {
     "data": {
      "text/plain": [
       "False"
      ]
     },
     "execution_count": 19,
     "metadata": {},
     "output_type": "execute_result"
    }
   ],
   "source": [
    "'zz' in example_dictionary"
   ]
  },
  {
   "cell_type": "markdown",
   "metadata": {},
   "source": [
    "#### Key로 Value 얻기(get)\n",
    "\n",
    "- Key에 대응되는 Value 반환\n",
    "- 존재하지 않는 키 사용 시 None 반환\n",
    "- Key값이 없을 경우 미리 정해둔 디폴트 값을 대신 가져오도록 지정 가능"
   ]
  },
  {
   "cell_type": "code",
   "execution_count": 20,
   "metadata": {},
   "outputs": [
    {
     "data": {
      "text/plain": [
       "\"I'm Jerry\""
      ]
     },
     "execution_count": 20,
     "metadata": {},
     "output_type": "execute_result"
    }
   ],
   "source": [
    "example_dictionary.get('Hi')"
   ]
  },
  {
   "cell_type": "code",
   "execution_count": 21,
   "metadata": {},
   "outputs": [],
   "source": [
    "example_dictionary.get(15224)"
   ]
  },
  {
   "cell_type": "code",
   "execution_count": 22,
   "metadata": {},
   "outputs": [
    {
     "data": {
      "text/plain": [
       "1234"
      ]
     },
     "execution_count": 22,
     "metadata": {},
     "output_type": "execute_result"
    }
   ],
   "source": [
    "example_dictionary.get('awfewfw', 1234)"
   ]
  },
  {
   "cell_type": "markdown",
   "metadata": {},
   "source": [
    "## 집합(set)\n",
    "\n",
    "- 집합에 관련된 것을 쉽게 처리하기 위해 만든 자료형\n",
    "- 중복을 허용하지 않음\n",
    "- 순서가 없음\n",
    "- 딕셔너리와 유사하게 인덱싱 사용 불가\n",
    "- 인덱싱을 원할 경우 리스트나 튜플로 변환 필요"
   ]
  },
  {
   "cell_type": "markdown",
   "metadata": {},
   "source": [
    "### 생성\n",
    "\n",
    "- set 키워드를 사용하여 생성"
   ]
  },
  {
   "cell_type": "code",
   "execution_count": 23,
   "metadata": {},
   "outputs": [
    {
     "data": {
      "text/plain": [
       "{1, 2, 3}"
      ]
     },
     "execution_count": 23,
     "metadata": {},
     "output_type": "execute_result"
    }
   ],
   "source": [
    "example_set = set([1, 2, 3])\n",
    "\n",
    "example_set"
   ]
  },
  {
   "cell_type": "code",
   "execution_count": 24,
   "metadata": {},
   "outputs": [
    {
     "data": {
      "text/plain": [
       "{'H', 'e', 'l', 'o'}"
      ]
     },
     "execution_count": 24,
     "metadata": {},
     "output_type": "execute_result"
    }
   ],
   "source": [
    "example_set = set('Hello')\n",
    "\n",
    "example_set"
   ]
  },
  {
   "cell_type": "markdown",
   "metadata": {},
   "source": [
    "### 교집합, 합집합, 차집합\n",
    "\n",
    "- 교집합: `&` 기호나 `insersection()` 함수 사용\n",
    "- 합집합: `|` 기호나 `union()` 함수 사용\n",
    "- 차집합: `-` 기호나 `difference()` 함수 사용"
   ]
  },
  {
   "cell_type": "code",
   "execution_count": 25,
   "metadata": {},
   "outputs": [],
   "source": [
    "example_set1 = set([1, 2, 3, 4, 5, 6])\n",
    "example_set2 = set([4, 5, 6, 7, 8, 9])"
   ]
  },
  {
   "cell_type": "code",
   "execution_count": 26,
   "metadata": {},
   "outputs": [
    {
     "data": {
      "text/plain": [
       "{4, 5, 6}"
      ]
     },
     "execution_count": 26,
     "metadata": {},
     "output_type": "execute_result"
    }
   ],
   "source": [
    "example_set1 & example_set2 # 교집합(&)"
   ]
  },
  {
   "cell_type": "code",
   "execution_count": 27,
   "metadata": {},
   "outputs": [
    {
     "data": {
      "text/plain": [
       "{4, 5, 6}"
      ]
     },
     "execution_count": 27,
     "metadata": {},
     "output_type": "execute_result"
    }
   ],
   "source": [
    "example_set1.intersection(example_set2) # 교집합(intersection)"
   ]
  },
  {
   "cell_type": "code",
   "execution_count": 28,
   "metadata": {},
   "outputs": [
    {
     "data": {
      "text/plain": [
       "{1, 2, 3, 4, 5, 6, 7, 8, 9}"
      ]
     },
     "execution_count": 28,
     "metadata": {},
     "output_type": "execute_result"
    }
   ],
   "source": [
    "example_set1 | example_set2 # 합집합(|)"
   ]
  },
  {
   "cell_type": "code",
   "execution_count": 29,
   "metadata": {},
   "outputs": [
    {
     "data": {
      "text/plain": [
       "{1, 2, 3, 4, 5, 6, 7, 8, 9}"
      ]
     },
     "execution_count": 29,
     "metadata": {},
     "output_type": "execute_result"
    }
   ],
   "source": [
    "example_set1.union(example_set2) # 합집합(union)"
   ]
  },
  {
   "cell_type": "code",
   "execution_count": 30,
   "metadata": {},
   "outputs": [
    {
     "data": {
      "text/plain": [
       "{1, 2, 3}"
      ]
     },
     "execution_count": 30,
     "metadata": {},
     "output_type": "execute_result"
    }
   ],
   "source": [
    "example_set1 - example_set2 # 차집합(-)"
   ]
  },
  {
   "cell_type": "code",
   "execution_count": 31,
   "metadata": {},
   "outputs": [
    {
     "data": {
      "text/plain": [
       "{7, 8, 9}"
      ]
     },
     "execution_count": 31,
     "metadata": {},
     "output_type": "execute_result"
    }
   ],
   "source": [
    "example_set2 - example_set1 # 차집합(-)"
   ]
  },
  {
   "cell_type": "code",
   "execution_count": 32,
   "metadata": {},
   "outputs": [
    {
     "data": {
      "text/plain": [
       "{1, 2, 3}"
      ]
     },
     "execution_count": 32,
     "metadata": {},
     "output_type": "execute_result"
    }
   ],
   "source": [
    "example_set1.difference(example_set2) # 차집합(difference)"
   ]
  },
  {
   "cell_type": "markdown",
   "metadata": {},
   "source": [
    "### 관련 함수\n",
    "\n",
    "#### 값 1개 추가(add)"
   ]
  },
  {
   "cell_type": "code",
   "execution_count": 33,
   "metadata": {},
   "outputs": [
    {
     "data": {
      "text/plain": [
       "{1, 2, 3, 4}"
      ]
     },
     "execution_count": 33,
     "metadata": {},
     "output_type": "execute_result"
    }
   ],
   "source": [
    "example_set = set([1, 2, 3])\n",
    "example_set.add(4)\n",
    "\n",
    "example_set"
   ]
  },
  {
   "cell_type": "markdown",
   "metadata": {},
   "source": [
    "#### 값 여러 개 추가(udpate)"
   ]
  },
  {
   "cell_type": "code",
   "execution_count": 34,
   "metadata": {},
   "outputs": [
    {
     "data": {
      "text/plain": [
       "{1, 2, 3, 4, 5, 6, 7}"
      ]
     },
     "execution_count": 34,
     "metadata": {},
     "output_type": "execute_result"
    }
   ],
   "source": [
    "example_set.update([5, 6, 7])\n",
    "\n",
    "example_set"
   ]
  },
  {
   "cell_type": "markdown",
   "metadata": {},
   "source": [
    "#### 특정 값 제거(remove)"
   ]
  },
  {
   "cell_type": "code",
   "execution_count": 35,
   "metadata": {},
   "outputs": [
    {
     "data": {
      "text/plain": [
       "{1, 2, 3, 4, 6, 7}"
      ]
     },
     "execution_count": 35,
     "metadata": {},
     "output_type": "execute_result"
    }
   ],
   "source": [
    "example_set.remove(5)\n",
    "\n",
    "example_set"
   ]
  }
 ],
 "metadata": {
  "kernelspec": {
   "display_name": "Python 3",
   "language": "python",
   "name": "python3"
  },
  "language_info": {
   "codemirror_mode": {
    "name": "ipython",
    "version": 3
   },
   "file_extension": ".py",
   "mimetype": "text/x-python",
   "name": "python",
   "nbconvert_exporter": "python",
   "pygments_lexer": "ipython3",
   "version": "3.13.1"
  }
 },
 "nbformat": 4,
 "nbformat_minor": 2
}
