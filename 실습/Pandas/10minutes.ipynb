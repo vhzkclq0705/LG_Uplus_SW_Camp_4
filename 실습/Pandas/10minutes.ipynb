{
 "cells": [
  {
   "cell_type": "markdown",
   "id": "faf6646a-5a4c-4c3d-8580-4b6dff4ac28b",
   "metadata": {},
   "source": [
    "# Pandas 10분 완성\n",
    "\n",
    "- [관련 링크](https://dataitgirls2.github.io/10minutes2pandas/)\n",
    "\n",
    "### 목차\n",
    "|장|내용|\n",
    "|---|---|\n",
    "|1|Object Creation(객체 생성)|\n",
    "|2|Viewing Data(데이터 확인하기)|\n",
    "|3|Selection(선택)|\n",
    "|4|Missing Data(결측치)|\n",
    "|5|Operation(연산)|\n",
    "|6|Merge(병합)|\n",
    "|7|Grouping(그룹화)|\n",
    "|8|Reshaping(변형)|\n",
    "|9|Time Series(시계열)|\n",
    "|10|Categoricals(범주화)|\n",
    "|11|Plotting(그래프)|\n",
    "|12|Getting Data In/Out(데이터 입/출력)|\n",
    "|13|Gotchas(잡았다!)|\n",
    "\n",
    "일반적으로 각 패키지는 pd, np, plt라는 이름으로 불러온다."
   ]
  },
  {
   "cell_type": "code",
   "execution_count": 1,
   "id": "610945d7-48e5-4c17-942d-1727911b5611",
   "metadata": {},
   "outputs": [],
   "source": [
    "import pandas as pd\n",
    "import numpy as np\n",
    "import matplotlib.pyplot as plt"
   ]
  },
  {
   "cell_type": "markdown",
   "id": "f0c309b7-d858-45c6-a7b5-f5d1045ec117",
   "metadata": {},
   "source": [
    "## 1. Object Creation (객체 생성)\n",
    "\n",
    "Pandas는 값을 가지고 있는 리스트를 통해 `Series`를 만들고, 정수로 만들어진 인덱스를 기본값으로 불러온다."
   ]
  },
  {
   "cell_type": "code",
   "execution_count": 2,
   "id": "0cd36ebc-d5c5-4d89-a637-a93ce06416a8",
   "metadata": {},
   "outputs": [],
   "source": [
    "s = pd.Series([1, 3, 5, np.nan, 6, 8])"
   ]
  },
  {
   "cell_type": "code",
   "execution_count": 3,
   "id": "dbbe82bd-6e4c-497f-ae25-08f592f94420",
   "metadata": {},
   "outputs": [
    {
     "data": {
      "text/plain": [
       "0    1.0\n",
       "1    3.0\n",
       "2    5.0\n",
       "3    NaN\n",
       "4    6.0\n",
       "5    8.0\n",
       "dtype: float64"
      ]
     },
     "execution_count": 3,
     "metadata": {},
     "output_type": "execute_result"
    }
   ],
   "source": [
    "s"
   ]
  },
  {
   "cell_type": "markdown",
   "id": "08150b57-2fb1-415b-9879-6c73d9aef0cf",
   "metadata": {},
   "source": [
    "`datatime` 인덱스와 레이블이 있는 열을 가지고 있는 numpy 배열을 전달하여 데이터프레임을 생성한다. "
   ]
  },
  {
   "cell_type": "code",
   "execution_count": 4,
   "id": "5b69d2b8-8ef7-4624-8720-c66b74a6b885",
   "metadata": {},
   "outputs": [],
   "source": [
    "dates = pd.date_range('20250123', periods=6)"
   ]
  },
  {
   "cell_type": "code",
   "execution_count": 5,
   "id": "1148ec91-429d-45a8-a75b-cb8d59ce8ab9",
   "metadata": {},
   "outputs": [
    {
     "data": {
      "text/plain": [
       "DatetimeIndex(['2025-01-23', '2025-01-24', '2025-01-25', '2025-01-26',\n",
       "               '2025-01-27', '2025-01-28'],\n",
       "              dtype='datetime64[ns]', freq='D')"
      ]
     },
     "execution_count": 5,
     "metadata": {},
     "output_type": "execute_result"
    }
   ],
   "source": [
    "dates"
   ]
  },
  {
   "cell_type": "code",
   "execution_count": 6,
   "id": "e3e58954-1261-49eb-bb54-6ebde57d1df0",
   "metadata": {},
   "outputs": [],
   "source": [
    "df = pd.DataFrame(np.random.randn(6, 4), index=dates, columns=list('ABCD'))"
   ]
  },
  {
   "cell_type": "code",
   "execution_count": 7,
   "id": "c744a16f-9c25-4997-a6aa-c56dd2a50b01",
   "metadata": {},
   "outputs": [
    {
     "data": {
      "text/html": [
       "<div>\n",
       "<style scoped>\n",
       "    .dataframe tbody tr th:only-of-type {\n",
       "        vertical-align: middle;\n",
       "    }\n",
       "\n",
       "    .dataframe tbody tr th {\n",
       "        vertical-align: top;\n",
       "    }\n",
       "\n",
       "    .dataframe thead th {\n",
       "        text-align: right;\n",
       "    }\n",
       "</style>\n",
       "<table border=\"1\" class=\"dataframe\">\n",
       "  <thead>\n",
       "    <tr style=\"text-align: right;\">\n",
       "      <th></th>\n",
       "      <th>A</th>\n",
       "      <th>B</th>\n",
       "      <th>C</th>\n",
       "      <th>D</th>\n",
       "    </tr>\n",
       "  </thead>\n",
       "  <tbody>\n",
       "    <tr>\n",
       "      <th>2025-01-23</th>\n",
       "      <td>0.782546</td>\n",
       "      <td>2.138515</td>\n",
       "      <td>-0.777180</td>\n",
       "      <td>0.526110</td>\n",
       "    </tr>\n",
       "    <tr>\n",
       "      <th>2025-01-24</th>\n",
       "      <td>0.797693</td>\n",
       "      <td>0.982986</td>\n",
       "      <td>-0.089695</td>\n",
       "      <td>-0.909473</td>\n",
       "    </tr>\n",
       "    <tr>\n",
       "      <th>2025-01-25</th>\n",
       "      <td>0.152760</td>\n",
       "      <td>-1.482798</td>\n",
       "      <td>1.273267</td>\n",
       "      <td>-0.675653</td>\n",
       "    </tr>\n",
       "    <tr>\n",
       "      <th>2025-01-26</th>\n",
       "      <td>-1.254234</td>\n",
       "      <td>0.468886</td>\n",
       "      <td>-0.263169</td>\n",
       "      <td>-0.492807</td>\n",
       "    </tr>\n",
       "    <tr>\n",
       "      <th>2025-01-27</th>\n",
       "      <td>0.152301</td>\n",
       "      <td>0.589697</td>\n",
       "      <td>0.294021</td>\n",
       "      <td>-1.006312</td>\n",
       "    </tr>\n",
       "    <tr>\n",
       "      <th>2025-01-28</th>\n",
       "      <td>-0.430604</td>\n",
       "      <td>-0.692097</td>\n",
       "      <td>2.059360</td>\n",
       "      <td>0.975521</td>\n",
       "    </tr>\n",
       "  </tbody>\n",
       "</table>\n",
       "</div>"
      ],
      "text/plain": [
       "                   A         B         C         D\n",
       "2025-01-23  0.782546  2.138515 -0.777180  0.526110\n",
       "2025-01-24  0.797693  0.982986 -0.089695 -0.909473\n",
       "2025-01-25  0.152760 -1.482798  1.273267 -0.675653\n",
       "2025-01-26 -1.254234  0.468886 -0.263169 -0.492807\n",
       "2025-01-27  0.152301  0.589697  0.294021 -1.006312\n",
       "2025-01-28 -0.430604 -0.692097  2.059360  0.975521"
      ]
     },
     "execution_count": 7,
     "metadata": {},
     "output_type": "execute_result"
    }
   ],
   "source": [
    "df"
   ]
  },
  {
   "cell_type": "markdown",
   "id": "d0d4b7f8-3fa2-4dfb-a330-a135e969ba6b",
   "metadata": {},
   "source": [
    "Series와 같은 것으로 변환될 수 있는 객체들의 `dict`로 구성된 데이터프레임을 만든다."
   ]
  },
  {
   "cell_type": "code",
   "execution_count": 8,
   "id": "a02580a7-8d47-40dd-9431-559efcd1b4ad",
   "metadata": {},
   "outputs": [],
   "source": [
    "df2 = pd.DataFrame({\n",
    "    'A': 1.,\n",
    "    'B': pd.Timestamp('20250123'),\n",
    "    'C': pd.Series(1, index=list(range(4)), dtype='float32'),\n",
    "    'D': np.array([3] * 4, dtype='int32'),\n",
    "    'E': pd.Categorical([\"test\", \"traing\", \"test\", \"traint\"]),\n",
    "    'F': 'foo'\n",
    "})"
   ]
  },
  {
   "cell_type": "code",
   "execution_count": 9,
   "id": "0f96d722-029c-4e45-944b-72aee872f1b2",
   "metadata": {},
   "outputs": [
    {
     "data": {
      "text/html": [
       "<div>\n",
       "<style scoped>\n",
       "    .dataframe tbody tr th:only-of-type {\n",
       "        vertical-align: middle;\n",
       "    }\n",
       "\n",
       "    .dataframe tbody tr th {\n",
       "        vertical-align: top;\n",
       "    }\n",
       "\n",
       "    .dataframe thead th {\n",
       "        text-align: right;\n",
       "    }\n",
       "</style>\n",
       "<table border=\"1\" class=\"dataframe\">\n",
       "  <thead>\n",
       "    <tr style=\"text-align: right;\">\n",
       "      <th></th>\n",
       "      <th>A</th>\n",
       "      <th>B</th>\n",
       "      <th>C</th>\n",
       "      <th>D</th>\n",
       "      <th>E</th>\n",
       "      <th>F</th>\n",
       "    </tr>\n",
       "  </thead>\n",
       "  <tbody>\n",
       "    <tr>\n",
       "      <th>0</th>\n",
       "      <td>1.0</td>\n",
       "      <td>2025-01-23</td>\n",
       "      <td>1.0</td>\n",
       "      <td>3</td>\n",
       "      <td>test</td>\n",
       "      <td>foo</td>\n",
       "    </tr>\n",
       "    <tr>\n",
       "      <th>1</th>\n",
       "      <td>1.0</td>\n",
       "      <td>2025-01-23</td>\n",
       "      <td>1.0</td>\n",
       "      <td>3</td>\n",
       "      <td>traing</td>\n",
       "      <td>foo</td>\n",
       "    </tr>\n",
       "    <tr>\n",
       "      <th>2</th>\n",
       "      <td>1.0</td>\n",
       "      <td>2025-01-23</td>\n",
       "      <td>1.0</td>\n",
       "      <td>3</td>\n",
       "      <td>test</td>\n",
       "      <td>foo</td>\n",
       "    </tr>\n",
       "    <tr>\n",
       "      <th>3</th>\n",
       "      <td>1.0</td>\n",
       "      <td>2025-01-23</td>\n",
       "      <td>1.0</td>\n",
       "      <td>3</td>\n",
       "      <td>traint</td>\n",
       "      <td>foo</td>\n",
       "    </tr>\n",
       "  </tbody>\n",
       "</table>\n",
       "</div>"
      ],
      "text/plain": [
       "     A          B    C  D       E    F\n",
       "0  1.0 2025-01-23  1.0  3    test  foo\n",
       "1  1.0 2025-01-23  1.0  3  traing  foo\n",
       "2  1.0 2025-01-23  1.0  3    test  foo\n",
       "3  1.0 2025-01-23  1.0  3  traint  foo"
      ]
     },
     "execution_count": 9,
     "metadata": {},
     "output_type": "execute_result"
    }
   ],
   "source": [
    "df2"
   ]
  },
  {
   "cell_type": "markdown",
   "id": "25361507-4853-49d3-8e58-1bc65009aff6",
   "metadata": {},
   "source": [
    "DataFrame의 결과물의 column은 다양한 데이터 타입(dtpyes)으로 구성된다."
   ]
  },
  {
   "cell_type": "code",
   "execution_count": 10,
   "id": "9eead861-d9ef-4075-889a-a261a284dbdc",
   "metadata": {},
   "outputs": [
    {
     "data": {
      "text/plain": [
       "A          float64\n",
       "B    datetime64[s]\n",
       "C          float32\n",
       "D            int32\n",
       "E         category\n",
       "F           object\n",
       "dtype: object"
      ]
     },
     "execution_count": 10,
     "metadata": {},
     "output_type": "execute_result"
    }
   ],
   "source": [
    "df2.dtypes"
   ]
  },
  {
   "cell_type": "markdown",
   "id": "19501644-c5d6-4427-9519-e2596f66b8a9",
   "metadata": {},
   "source": [
    "## 2. Viewing Data (데이터 확인하기)\n",
    "\n",
    "DataFrame의 가장 윗 줄과 마지막 줄을 확인하고 싶을 때에 사용하는 방법은 다음과 같다.\n",
    "- 괄호 안에는 숫자가 들어갈 수도 있고 안 들어갈 수도 있다.\n",
    "- 숫자가 들어간다면, 윗 / 마지막 줄의 특정 줄을 불러올 수 있다.\n",
    "- 숫자가 들어가지 않는다면, 기본값은 5로 처리된다."
   ]
  },
  {
   "cell_type": "code",
   "execution_count": 11,
   "id": "99df7aa0-0408-4584-97b2-42597f476e5e",
   "metadata": {},
   "outputs": [
    {
     "data": {
      "text/html": [
       "<div>\n",
       "<style scoped>\n",
       "    .dataframe tbody tr th:only-of-type {\n",
       "        vertical-align: middle;\n",
       "    }\n",
       "\n",
       "    .dataframe tbody tr th {\n",
       "        vertical-align: top;\n",
       "    }\n",
       "\n",
       "    .dataframe thead th {\n",
       "        text-align: right;\n",
       "    }\n",
       "</style>\n",
       "<table border=\"1\" class=\"dataframe\">\n",
       "  <thead>\n",
       "    <tr style=\"text-align: right;\">\n",
       "      <th></th>\n",
       "      <th>A</th>\n",
       "      <th>B</th>\n",
       "      <th>C</th>\n",
       "      <th>D</th>\n",
       "    </tr>\n",
       "  </thead>\n",
       "  <tbody>\n",
       "    <tr>\n",
       "      <th>2025-01-24</th>\n",
       "      <td>0.797693</td>\n",
       "      <td>0.982986</td>\n",
       "      <td>-0.089695</td>\n",
       "      <td>-0.909473</td>\n",
       "    </tr>\n",
       "    <tr>\n",
       "      <th>2025-01-25</th>\n",
       "      <td>0.152760</td>\n",
       "      <td>-1.482798</td>\n",
       "      <td>1.273267</td>\n",
       "      <td>-0.675653</td>\n",
       "    </tr>\n",
       "    <tr>\n",
       "      <th>2025-01-26</th>\n",
       "      <td>-1.254234</td>\n",
       "      <td>0.468886</td>\n",
       "      <td>-0.263169</td>\n",
       "      <td>-0.492807</td>\n",
       "    </tr>\n",
       "    <tr>\n",
       "      <th>2025-01-27</th>\n",
       "      <td>0.152301</td>\n",
       "      <td>0.589697</td>\n",
       "      <td>0.294021</td>\n",
       "      <td>-1.006312</td>\n",
       "    </tr>\n",
       "    <tr>\n",
       "      <th>2025-01-28</th>\n",
       "      <td>-0.430604</td>\n",
       "      <td>-0.692097</td>\n",
       "      <td>2.059360</td>\n",
       "      <td>0.975521</td>\n",
       "    </tr>\n",
       "  </tbody>\n",
       "</table>\n",
       "</div>"
      ],
      "text/plain": [
       "                   A         B         C         D\n",
       "2025-01-24  0.797693  0.982986 -0.089695 -0.909473\n",
       "2025-01-25  0.152760 -1.482798  1.273267 -0.675653\n",
       "2025-01-26 -1.254234  0.468886 -0.263169 -0.492807\n",
       "2025-01-27  0.152301  0.589697  0.294021 -1.006312\n",
       "2025-01-28 -0.430604 -0.692097  2.059360  0.975521"
      ]
     },
     "execution_count": 11,
     "metadata": {},
     "output_type": "execute_result"
    }
   ],
   "source": [
    "df.tail(3) # 끝에서 마지막 3줄\n",
    "df.tail() # 끝에서 마지막 5줄"
   ]
  },
  {
   "cell_type": "code",
   "execution_count": 12,
   "id": "db761044-d558-4f3a-8620-4dd2a19b40ab",
   "metadata": {},
   "outputs": [
    {
     "data": {
      "text/html": [
       "<div>\n",
       "<style scoped>\n",
       "    .dataframe tbody tr th:only-of-type {\n",
       "        vertical-align: middle;\n",
       "    }\n",
       "\n",
       "    .dataframe tbody tr th {\n",
       "        vertical-align: top;\n",
       "    }\n",
       "\n",
       "    .dataframe thead th {\n",
       "        text-align: right;\n",
       "    }\n",
       "</style>\n",
       "<table border=\"1\" class=\"dataframe\">\n",
       "  <thead>\n",
       "    <tr style=\"text-align: right;\">\n",
       "      <th></th>\n",
       "      <th>A</th>\n",
       "      <th>B</th>\n",
       "      <th>C</th>\n",
       "      <th>D</th>\n",
       "    </tr>\n",
       "  </thead>\n",
       "  <tbody>\n",
       "    <tr>\n",
       "      <th>2025-01-23</th>\n",
       "      <td>0.782546</td>\n",
       "      <td>2.138515</td>\n",
       "      <td>-0.777180</td>\n",
       "      <td>0.526110</td>\n",
       "    </tr>\n",
       "    <tr>\n",
       "      <th>2025-01-24</th>\n",
       "      <td>0.797693</td>\n",
       "      <td>0.982986</td>\n",
       "      <td>-0.089695</td>\n",
       "      <td>-0.909473</td>\n",
       "    </tr>\n",
       "    <tr>\n",
       "      <th>2025-01-25</th>\n",
       "      <td>0.152760</td>\n",
       "      <td>-1.482798</td>\n",
       "      <td>1.273267</td>\n",
       "      <td>-0.675653</td>\n",
       "    </tr>\n",
       "    <tr>\n",
       "      <th>2025-01-26</th>\n",
       "      <td>-1.254234</td>\n",
       "      <td>0.468886</td>\n",
       "      <td>-0.263169</td>\n",
       "      <td>-0.492807</td>\n",
       "    </tr>\n",
       "    <tr>\n",
       "      <th>2025-01-27</th>\n",
       "      <td>0.152301</td>\n",
       "      <td>0.589697</td>\n",
       "      <td>0.294021</td>\n",
       "      <td>-1.006312</td>\n",
       "    </tr>\n",
       "  </tbody>\n",
       "</table>\n",
       "</div>"
      ],
      "text/plain": [
       "                   A         B         C         D\n",
       "2025-01-23  0.782546  2.138515 -0.777180  0.526110\n",
       "2025-01-24  0.797693  0.982986 -0.089695 -0.909473\n",
       "2025-01-25  0.152760 -1.482798  1.273267 -0.675653\n",
       "2025-01-26 -1.254234  0.468886 -0.263169 -0.492807\n",
       "2025-01-27  0.152301  0.589697  0.294021 -1.006312"
      ]
     },
     "execution_count": 12,
     "metadata": {},
     "output_type": "execute_result"
    }
   ],
   "source": [
    "df.head() # 처음에서 5줄"
   ]
  },
  {
   "cell_type": "code",
   "execution_count": 13,
   "id": "077d8c38-9d69-4c2b-b71d-af3323c2a279",
   "metadata": {},
   "outputs": [
    {
     "data": {
      "text/html": [
       "<div>\n",
       "<style scoped>\n",
       "    .dataframe tbody tr th:only-of-type {\n",
       "        vertical-align: middle;\n",
       "    }\n",
       "\n",
       "    .dataframe tbody tr th {\n",
       "        vertical-align: top;\n",
       "    }\n",
       "\n",
       "    .dataframe thead th {\n",
       "        text-align: right;\n",
       "    }\n",
       "</style>\n",
       "<table border=\"1\" class=\"dataframe\">\n",
       "  <thead>\n",
       "    <tr style=\"text-align: right;\">\n",
       "      <th></th>\n",
       "      <th>A</th>\n",
       "      <th>B</th>\n",
       "      <th>C</th>\n",
       "      <th>D</th>\n",
       "    </tr>\n",
       "  </thead>\n",
       "  <tbody>\n",
       "    <tr>\n",
       "      <th>2025-01-26</th>\n",
       "      <td>-1.254234</td>\n",
       "      <td>0.468886</td>\n",
       "      <td>-0.263169</td>\n",
       "      <td>-0.492807</td>\n",
       "    </tr>\n",
       "    <tr>\n",
       "      <th>2025-01-27</th>\n",
       "      <td>0.152301</td>\n",
       "      <td>0.589697</td>\n",
       "      <td>0.294021</td>\n",
       "      <td>-1.006312</td>\n",
       "    </tr>\n",
       "    <tr>\n",
       "      <th>2025-01-28</th>\n",
       "      <td>-0.430604</td>\n",
       "      <td>-0.692097</td>\n",
       "      <td>2.059360</td>\n",
       "      <td>0.975521</td>\n",
       "    </tr>\n",
       "  </tbody>\n",
       "</table>\n",
       "</div>"
      ],
      "text/plain": [
       "                   A         B         C         D\n",
       "2025-01-26 -1.254234  0.468886 -0.263169 -0.492807\n",
       "2025-01-27  0.152301  0.589697  0.294021 -1.006312\n",
       "2025-01-28 -0.430604 -0.692097  2.059360  0.975521"
      ]
     },
     "execution_count": 13,
     "metadata": {},
     "output_type": "execute_result"
    }
   ],
   "source": [
    "df.tail(3)"
   ]
  },
  {
   "cell_type": "markdown",
   "id": "a436d187-cc1e-4b0e-a75d-c27a25d4e962",
   "metadata": {},
   "source": [
    "인덱스 (index), 열 (column) 그리고 numpy 데이터에 대한 세부 정보를 본다."
   ]
  },
  {
   "cell_type": "code",
   "execution_count": 14,
   "id": "92dd6f48-e128-4b96-9768-e636a1128d48",
   "metadata": {},
   "outputs": [
    {
     "data": {
      "text/plain": [
       "DatetimeIndex(['2025-01-23', '2025-01-24', '2025-01-25', '2025-01-26',\n",
       "               '2025-01-27', '2025-01-28'],\n",
       "              dtype='datetime64[ns]', freq='D')"
      ]
     },
     "execution_count": 14,
     "metadata": {},
     "output_type": "execute_result"
    }
   ],
   "source": [
    "df.index"
   ]
  },
  {
   "cell_type": "code",
   "execution_count": 15,
   "id": "bf1bb6ce-9d93-4dc2-b5c1-d810e32b37d4",
   "metadata": {},
   "outputs": [
    {
     "data": {
      "text/plain": [
       "Index(['A', 'B', 'C', 'D'], dtype='object')"
      ]
     },
     "execution_count": 15,
     "metadata": {},
     "output_type": "execute_result"
    }
   ],
   "source": [
    "df.columns"
   ]
  },
  {
   "cell_type": "code",
   "execution_count": 16,
   "id": "ac073040-098a-4476-a252-11ab29023f45",
   "metadata": {},
   "outputs": [
    {
     "data": {
      "text/plain": [
       "array([[ 0.78254575,  2.13851514, -0.77717997,  0.52611005],\n",
       "       [ 0.79769317,  0.98298634, -0.08969518, -0.90947342],\n",
       "       [ 0.15275955, -1.48279831,  1.27326703, -0.67565301],\n",
       "       [-1.25423425,  0.46888632, -0.26316903, -0.49280652],\n",
       "       [ 0.1523014 ,  0.58969744,  0.29402079, -1.00631246],\n",
       "       [-0.43060416, -0.69209747,  2.05935967,  0.97552089]])"
      ]
     },
     "execution_count": 16,
     "metadata": {},
     "output_type": "execute_result"
    }
   ],
   "source": [
    "df.values"
   ]
  },
  {
   "cell_type": "markdown",
   "id": "f686cca2-715a-44f6-8a69-cf13c2514cbb",
   "metadata": {},
   "source": [
    "describe()는 데이터의 대략적인 통계적 정보 요약을 보여준다.\n",
    "\n",
    "- `count`: 열의 유효값(결측값이 아닌 값)의 개수\n",
    "- `mean`: 열의 평균값\n",
    "- `std`: 열의 표준편차 (데이터의 분산 정도)\n",
    "- `min`: 열의 최솟값\n",
    "- `25%`: 열의 1사분위수 (데이터의 하위 25% 지점)\n",
    "- `50%`: 열의 중앙값 (데이터의 50% 지점, 2사분위수 또는 중위수)\n",
    "- `75%`: 열의 3사분위수 (데이터의 상위 25%를 제외한 하위 75% 지점)\n",
    "- `max`: 열의 최댓값"
   ]
  },
  {
   "cell_type": "code",
   "execution_count": 17,
   "id": "55e910cf-5d23-4a7d-a1f3-19e5f91b6d62",
   "metadata": {},
   "outputs": [
    {
     "data": {
      "text/html": [
       "<div>\n",
       "<style scoped>\n",
       "    .dataframe tbody tr th:only-of-type {\n",
       "        vertical-align: middle;\n",
       "    }\n",
       "\n",
       "    .dataframe tbody tr th {\n",
       "        vertical-align: top;\n",
       "    }\n",
       "\n",
       "    .dataframe thead th {\n",
       "        text-align: right;\n",
       "    }\n",
       "</style>\n",
       "<table border=\"1\" class=\"dataframe\">\n",
       "  <thead>\n",
       "    <tr style=\"text-align: right;\">\n",
       "      <th></th>\n",
       "      <th>A</th>\n",
       "      <th>B</th>\n",
       "      <th>C</th>\n",
       "      <th>D</th>\n",
       "    </tr>\n",
       "  </thead>\n",
       "  <tbody>\n",
       "    <tr>\n",
       "      <th>count</th>\n",
       "      <td>6.000000</td>\n",
       "      <td>6.000000</td>\n",
       "      <td>6.000000</td>\n",
       "      <td>6.000000</td>\n",
       "    </tr>\n",
       "    <tr>\n",
       "      <th>mean</th>\n",
       "      <td>0.033410</td>\n",
       "      <td>0.334198</td>\n",
       "      <td>0.416101</td>\n",
       "      <td>-0.263769</td>\n",
       "    </tr>\n",
       "    <tr>\n",
       "      <th>std</th>\n",
       "      <td>0.780647</td>\n",
       "      <td>1.273944</td>\n",
       "      <td>1.057459</td>\n",
       "      <td>0.818555</td>\n",
       "    </tr>\n",
       "    <tr>\n",
       "      <th>min</th>\n",
       "      <td>-1.254234</td>\n",
       "      <td>-1.482798</td>\n",
       "      <td>-0.777180</td>\n",
       "      <td>-1.006312</td>\n",
       "    </tr>\n",
       "    <tr>\n",
       "      <th>25%</th>\n",
       "      <td>-0.284878</td>\n",
       "      <td>-0.401852</td>\n",
       "      <td>-0.219801</td>\n",
       "      <td>-0.851018</td>\n",
       "    </tr>\n",
       "    <tr>\n",
       "      <th>50%</th>\n",
       "      <td>0.152530</td>\n",
       "      <td>0.529292</td>\n",
       "      <td>0.102163</td>\n",
       "      <td>-0.584230</td>\n",
       "    </tr>\n",
       "    <tr>\n",
       "      <th>75%</th>\n",
       "      <td>0.625099</td>\n",
       "      <td>0.884664</td>\n",
       "      <td>1.028455</td>\n",
       "      <td>0.271381</td>\n",
       "    </tr>\n",
       "    <tr>\n",
       "      <th>max</th>\n",
       "      <td>0.797693</td>\n",
       "      <td>2.138515</td>\n",
       "      <td>2.059360</td>\n",
       "      <td>0.975521</td>\n",
       "    </tr>\n",
       "  </tbody>\n",
       "</table>\n",
       "</div>"
      ],
      "text/plain": [
       "              A         B         C         D\n",
       "count  6.000000  6.000000  6.000000  6.000000\n",
       "mean   0.033410  0.334198  0.416101 -0.263769\n",
       "std    0.780647  1.273944  1.057459  0.818555\n",
       "min   -1.254234 -1.482798 -0.777180 -1.006312\n",
       "25%   -0.284878 -0.401852 -0.219801 -0.851018\n",
       "50%    0.152530  0.529292  0.102163 -0.584230\n",
       "75%    0.625099  0.884664  1.028455  0.271381\n",
       "max    0.797693  2.138515  2.059360  0.975521"
      ]
     },
     "execution_count": 17,
     "metadata": {},
     "output_type": "execute_result"
    }
   ],
   "source": [
    "df.describe()"
   ]
  },
  {
   "cell_type": "markdown",
   "id": "d5d839b7-0d20-412f-b2ba-b80378155a15",
   "metadata": {},
   "source": [
    "데이터를 전치한다."
   ]
  },
  {
   "cell_type": "code",
   "execution_count": 18,
   "id": "a6ab63a4-8caf-4f7c-b868-e3439f2ca1e6",
   "metadata": {},
   "outputs": [
    {
     "data": {
      "text/html": [
       "<div>\n",
       "<style scoped>\n",
       "    .dataframe tbody tr th:only-of-type {\n",
       "        vertical-align: middle;\n",
       "    }\n",
       "\n",
       "    .dataframe tbody tr th {\n",
       "        vertical-align: top;\n",
       "    }\n",
       "\n",
       "    .dataframe thead th {\n",
       "        text-align: right;\n",
       "    }\n",
       "</style>\n",
       "<table border=\"1\" class=\"dataframe\">\n",
       "  <thead>\n",
       "    <tr style=\"text-align: right;\">\n",
       "      <th></th>\n",
       "      <th>2025-01-23</th>\n",
       "      <th>2025-01-24</th>\n",
       "      <th>2025-01-25</th>\n",
       "      <th>2025-01-26</th>\n",
       "      <th>2025-01-27</th>\n",
       "      <th>2025-01-28</th>\n",
       "    </tr>\n",
       "  </thead>\n",
       "  <tbody>\n",
       "    <tr>\n",
       "      <th>A</th>\n",
       "      <td>0.782546</td>\n",
       "      <td>0.797693</td>\n",
       "      <td>0.152760</td>\n",
       "      <td>-1.254234</td>\n",
       "      <td>0.152301</td>\n",
       "      <td>-0.430604</td>\n",
       "    </tr>\n",
       "    <tr>\n",
       "      <th>B</th>\n",
       "      <td>2.138515</td>\n",
       "      <td>0.982986</td>\n",
       "      <td>-1.482798</td>\n",
       "      <td>0.468886</td>\n",
       "      <td>0.589697</td>\n",
       "      <td>-0.692097</td>\n",
       "    </tr>\n",
       "    <tr>\n",
       "      <th>C</th>\n",
       "      <td>-0.777180</td>\n",
       "      <td>-0.089695</td>\n",
       "      <td>1.273267</td>\n",
       "      <td>-0.263169</td>\n",
       "      <td>0.294021</td>\n",
       "      <td>2.059360</td>\n",
       "    </tr>\n",
       "    <tr>\n",
       "      <th>D</th>\n",
       "      <td>0.526110</td>\n",
       "      <td>-0.909473</td>\n",
       "      <td>-0.675653</td>\n",
       "      <td>-0.492807</td>\n",
       "      <td>-1.006312</td>\n",
       "      <td>0.975521</td>\n",
       "    </tr>\n",
       "  </tbody>\n",
       "</table>\n",
       "</div>"
      ],
      "text/plain": [
       "   2025-01-23  2025-01-24  2025-01-25  2025-01-26  2025-01-27  2025-01-28\n",
       "A    0.782546    0.797693    0.152760   -1.254234    0.152301   -0.430604\n",
       "B    2.138515    0.982986   -1.482798    0.468886    0.589697   -0.692097\n",
       "C   -0.777180   -0.089695    1.273267   -0.263169    0.294021    2.059360\n",
       "D    0.526110   -0.909473   -0.675653   -0.492807   -1.006312    0.975521"
      ]
     },
     "execution_count": 18,
     "metadata": {},
     "output_type": "execute_result"
    }
   ],
   "source": [
    "df.T"
   ]
  },
  {
   "cell_type": "markdown",
   "id": "d70584f6-616e-417f-b241-4457b9504617",
   "metadata": {},
   "source": [
    "축 별로 정렬한다.\n",
    "sort_index()에서 axis = 0인 경우 행(row)을 기준으로 정렬하고, axis = 1인 경우 열(column)을 기준으로 정렬한다."
   ]
  },
  {
   "cell_type": "code",
   "execution_count": 19,
   "id": "663a3486-8240-476f-901a-bf6bdf6e6113",
   "metadata": {},
   "outputs": [
    {
     "data": {
      "text/html": [
       "<div>\n",
       "<style scoped>\n",
       "    .dataframe tbody tr th:only-of-type {\n",
       "        vertical-align: middle;\n",
       "    }\n",
       "\n",
       "    .dataframe tbody tr th {\n",
       "        vertical-align: top;\n",
       "    }\n",
       "\n",
       "    .dataframe thead th {\n",
       "        text-align: right;\n",
       "    }\n",
       "</style>\n",
       "<table border=\"1\" class=\"dataframe\">\n",
       "  <thead>\n",
       "    <tr style=\"text-align: right;\">\n",
       "      <th></th>\n",
       "      <th>D</th>\n",
       "      <th>C</th>\n",
       "      <th>B</th>\n",
       "      <th>A</th>\n",
       "    </tr>\n",
       "  </thead>\n",
       "  <tbody>\n",
       "    <tr>\n",
       "      <th>2025-01-23</th>\n",
       "      <td>0.526110</td>\n",
       "      <td>-0.777180</td>\n",
       "      <td>2.138515</td>\n",
       "      <td>0.782546</td>\n",
       "    </tr>\n",
       "    <tr>\n",
       "      <th>2025-01-24</th>\n",
       "      <td>-0.909473</td>\n",
       "      <td>-0.089695</td>\n",
       "      <td>0.982986</td>\n",
       "      <td>0.797693</td>\n",
       "    </tr>\n",
       "    <tr>\n",
       "      <th>2025-01-25</th>\n",
       "      <td>-0.675653</td>\n",
       "      <td>1.273267</td>\n",
       "      <td>-1.482798</td>\n",
       "      <td>0.152760</td>\n",
       "    </tr>\n",
       "    <tr>\n",
       "      <th>2025-01-26</th>\n",
       "      <td>-0.492807</td>\n",
       "      <td>-0.263169</td>\n",
       "      <td>0.468886</td>\n",
       "      <td>-1.254234</td>\n",
       "    </tr>\n",
       "    <tr>\n",
       "      <th>2025-01-27</th>\n",
       "      <td>-1.006312</td>\n",
       "      <td>0.294021</td>\n",
       "      <td>0.589697</td>\n",
       "      <td>0.152301</td>\n",
       "    </tr>\n",
       "    <tr>\n",
       "      <th>2025-01-28</th>\n",
       "      <td>0.975521</td>\n",
       "      <td>2.059360</td>\n",
       "      <td>-0.692097</td>\n",
       "      <td>-0.430604</td>\n",
       "    </tr>\n",
       "  </tbody>\n",
       "</table>\n",
       "</div>"
      ],
      "text/plain": [
       "                   D         C         B         A\n",
       "2025-01-23  0.526110 -0.777180  2.138515  0.782546\n",
       "2025-01-24 -0.909473 -0.089695  0.982986  0.797693\n",
       "2025-01-25 -0.675653  1.273267 -1.482798  0.152760\n",
       "2025-01-26 -0.492807 -0.263169  0.468886 -1.254234\n",
       "2025-01-27 -1.006312  0.294021  0.589697  0.152301\n",
       "2025-01-28  0.975521  2.059360 -0.692097 -0.430604"
      ]
     },
     "execution_count": 19,
     "metadata": {},
     "output_type": "execute_result"
    }
   ],
   "source": [
    "df.sort_index(axis=1, ascending=False)"
   ]
  },
  {
   "cell_type": "markdown",
   "id": "5d160946-5bfb-40e9-9d2f-8824be42f6ef",
   "metadata": {},
   "source": [
    "값 별로 정렬한다."
   ]
  },
  {
   "cell_type": "code",
   "execution_count": 20,
   "id": "1766c0ba-c56e-45b2-9ef6-d82fde94688f",
   "metadata": {},
   "outputs": [
    {
     "data": {
      "text/html": [
       "<div>\n",
       "<style scoped>\n",
       "    .dataframe tbody tr th:only-of-type {\n",
       "        vertical-align: middle;\n",
       "    }\n",
       "\n",
       "    .dataframe tbody tr th {\n",
       "        vertical-align: top;\n",
       "    }\n",
       "\n",
       "    .dataframe thead th {\n",
       "        text-align: right;\n",
       "    }\n",
       "</style>\n",
       "<table border=\"1\" class=\"dataframe\">\n",
       "  <thead>\n",
       "    <tr style=\"text-align: right;\">\n",
       "      <th></th>\n",
       "      <th>A</th>\n",
       "      <th>B</th>\n",
       "      <th>C</th>\n",
       "      <th>D</th>\n",
       "    </tr>\n",
       "  </thead>\n",
       "  <tbody>\n",
       "    <tr>\n",
       "      <th>2025-01-25</th>\n",
       "      <td>0.152760</td>\n",
       "      <td>-1.482798</td>\n",
       "      <td>1.273267</td>\n",
       "      <td>-0.675653</td>\n",
       "    </tr>\n",
       "    <tr>\n",
       "      <th>2025-01-28</th>\n",
       "      <td>-0.430604</td>\n",
       "      <td>-0.692097</td>\n",
       "      <td>2.059360</td>\n",
       "      <td>0.975521</td>\n",
       "    </tr>\n",
       "    <tr>\n",
       "      <th>2025-01-26</th>\n",
       "      <td>-1.254234</td>\n",
       "      <td>0.468886</td>\n",
       "      <td>-0.263169</td>\n",
       "      <td>-0.492807</td>\n",
       "    </tr>\n",
       "    <tr>\n",
       "      <th>2025-01-27</th>\n",
       "      <td>0.152301</td>\n",
       "      <td>0.589697</td>\n",
       "      <td>0.294021</td>\n",
       "      <td>-1.006312</td>\n",
       "    </tr>\n",
       "    <tr>\n",
       "      <th>2025-01-24</th>\n",
       "      <td>0.797693</td>\n",
       "      <td>0.982986</td>\n",
       "      <td>-0.089695</td>\n",
       "      <td>-0.909473</td>\n",
       "    </tr>\n",
       "    <tr>\n",
       "      <th>2025-01-23</th>\n",
       "      <td>0.782546</td>\n",
       "      <td>2.138515</td>\n",
       "      <td>-0.777180</td>\n",
       "      <td>0.526110</td>\n",
       "    </tr>\n",
       "  </tbody>\n",
       "</table>\n",
       "</div>"
      ],
      "text/plain": [
       "                   A         B         C         D\n",
       "2025-01-25  0.152760 -1.482798  1.273267 -0.675653\n",
       "2025-01-28 -0.430604 -0.692097  2.059360  0.975521\n",
       "2025-01-26 -1.254234  0.468886 -0.263169 -0.492807\n",
       "2025-01-27  0.152301  0.589697  0.294021 -1.006312\n",
       "2025-01-24  0.797693  0.982986 -0.089695 -0.909473\n",
       "2025-01-23  0.782546  2.138515 -0.777180  0.526110"
      ]
     },
     "execution_count": 20,
     "metadata": {},
     "output_type": "execute_result"
    }
   ],
   "source": [
    "df.sort_values(by='B')"
   ]
  },
  {
   "cell_type": "markdown",
   "id": "992b99a6-476d-4fc8-9572-cc6311d3e78f",
   "metadata": {},
   "source": [
    "## 3. Selection (선택)\n",
    "\n",
    "Python 및 Numpy의 선택과 설정을 위한 표현들은 직관적이고 코드 작성을 위한 작업에 유용하다.\n",
    "하지만, `.at`, `.iat`, `.loc`, `.iloc`가 Pandas에 최적화되어 있기 때문에 사용하는 것을 추천한다."
   ]
  },
  {
   "cell_type": "markdown",
   "id": "f2f7c168-ccd7-4842-9d4f-165e019273b5",
   "metadata": {},
   "source": [
    "### Getting (데이터 얻기)\n",
    "\n",
    "`df.A`와 동일한 Series를  생성하는 단일 열을 선택한다."
   ]
  },
  {
   "cell_type": "code",
   "execution_count": 21,
   "id": "55df7f8a-4cfd-4b30-9758-0833a0cb3ad9",
   "metadata": {},
   "outputs": [
    {
     "data": {
      "text/plain": [
       "2025-01-23    0.782546\n",
       "2025-01-24    0.797693\n",
       "2025-01-25    0.152760\n",
       "2025-01-26   -1.254234\n",
       "2025-01-27    0.152301\n",
       "2025-01-28   -0.430604\n",
       "Freq: D, Name: A, dtype: float64"
      ]
     },
     "execution_count": 21,
     "metadata": {},
     "output_type": "execute_result"
    }
   ],
   "source": [
    "df['A']"
   ]
  },
  {
   "cell_type": "markdown",
   "id": "d8411450-0770-4873-9239-3511fd014455",
   "metadata": {},
   "source": [
    "행을 분할하는 []를 통해 선택한다."
   ]
  },
  {
   "cell_type": "code",
   "execution_count": 22,
   "id": "56668160-2885-4230-8f63-ff3ea00e969b",
   "metadata": {},
   "outputs": [
    {
     "data": {
      "text/html": [
       "<div>\n",
       "<style scoped>\n",
       "    .dataframe tbody tr th:only-of-type {\n",
       "        vertical-align: middle;\n",
       "    }\n",
       "\n",
       "    .dataframe tbody tr th {\n",
       "        vertical-align: top;\n",
       "    }\n",
       "\n",
       "    .dataframe thead th {\n",
       "        text-align: right;\n",
       "    }\n",
       "</style>\n",
       "<table border=\"1\" class=\"dataframe\">\n",
       "  <thead>\n",
       "    <tr style=\"text-align: right;\">\n",
       "      <th></th>\n",
       "      <th>A</th>\n",
       "      <th>B</th>\n",
       "      <th>C</th>\n",
       "      <th>D</th>\n",
       "    </tr>\n",
       "  </thead>\n",
       "  <tbody>\n",
       "    <tr>\n",
       "      <th>2025-01-23</th>\n",
       "      <td>0.782546</td>\n",
       "      <td>2.138515</td>\n",
       "      <td>-0.777180</td>\n",
       "      <td>0.526110</td>\n",
       "    </tr>\n",
       "    <tr>\n",
       "      <th>2025-01-24</th>\n",
       "      <td>0.797693</td>\n",
       "      <td>0.982986</td>\n",
       "      <td>-0.089695</td>\n",
       "      <td>-0.909473</td>\n",
       "    </tr>\n",
       "    <tr>\n",
       "      <th>2025-01-25</th>\n",
       "      <td>0.152760</td>\n",
       "      <td>-1.482798</td>\n",
       "      <td>1.273267</td>\n",
       "      <td>-0.675653</td>\n",
       "    </tr>\n",
       "  </tbody>\n",
       "</table>\n",
       "</div>"
      ],
      "text/plain": [
       "                   A         B         C         D\n",
       "2025-01-23  0.782546  2.138515 -0.777180  0.526110\n",
       "2025-01-24  0.797693  0.982986 -0.089695 -0.909473\n",
       "2025-01-25  0.152760 -1.482798  1.273267 -0.675653"
      ]
     },
     "execution_count": 22,
     "metadata": {},
     "output_type": "execute_result"
    }
   ],
   "source": [
    "df[0:3]"
   ]
  },
  {
   "cell_type": "code",
   "execution_count": 23,
   "id": "a15754d4-83b4-4537-b7e7-e4c1c2a58baa",
   "metadata": {},
   "outputs": [
    {
     "data": {
      "text/html": [
       "<div>\n",
       "<style scoped>\n",
       "    .dataframe tbody tr th:only-of-type {\n",
       "        vertical-align: middle;\n",
       "    }\n",
       "\n",
       "    .dataframe tbody tr th {\n",
       "        vertical-align: top;\n",
       "    }\n",
       "\n",
       "    .dataframe thead th {\n",
       "        text-align: right;\n",
       "    }\n",
       "</style>\n",
       "<table border=\"1\" class=\"dataframe\">\n",
       "  <thead>\n",
       "    <tr style=\"text-align: right;\">\n",
       "      <th></th>\n",
       "      <th>A</th>\n",
       "      <th>B</th>\n",
       "      <th>C</th>\n",
       "      <th>D</th>\n",
       "    </tr>\n",
       "  </thead>\n",
       "  <tbody>\n",
       "    <tr>\n",
       "      <th>2025-01-23</th>\n",
       "      <td>0.782546</td>\n",
       "      <td>2.138515</td>\n",
       "      <td>-0.777180</td>\n",
       "      <td>0.526110</td>\n",
       "    </tr>\n",
       "    <tr>\n",
       "      <th>2025-01-24</th>\n",
       "      <td>0.797693</td>\n",
       "      <td>0.982986</td>\n",
       "      <td>-0.089695</td>\n",
       "      <td>-0.909473</td>\n",
       "    </tr>\n",
       "    <tr>\n",
       "      <th>2025-01-25</th>\n",
       "      <td>0.152760</td>\n",
       "      <td>-1.482798</td>\n",
       "      <td>1.273267</td>\n",
       "      <td>-0.675653</td>\n",
       "    </tr>\n",
       "  </tbody>\n",
       "</table>\n",
       "</div>"
      ],
      "text/plain": [
       "                   A         B         C         D\n",
       "2025-01-23  0.782546  2.138515 -0.777180  0.526110\n",
       "2025-01-24  0.797693  0.982986 -0.089695 -0.909473\n",
       "2025-01-25  0.152760 -1.482798  1.273267 -0.675653"
      ]
     },
     "execution_count": 23,
     "metadata": {},
     "output_type": "execute_result"
    }
   ],
   "source": [
    "df['20250123':'20250125']"
   ]
  },
  {
   "cell_type": "markdown",
   "id": "c24bc24f-256e-40c1-99a2-2dbd290ed014",
   "metadata": {},
   "source": [
    "### Selection by Label (Label을 통한 선택)\n",
    "\n",
    "Label을 사용하여 횡단면을 얻는다."
   ]
  },
  {
   "cell_type": "code",
   "execution_count": 24,
   "id": "d8d4c3e3-166f-41ca-af37-07653050541f",
   "metadata": {},
   "outputs": [
    {
     "data": {
      "text/plain": [
       "A    0.782546\n",
       "B    2.138515\n",
       "C   -0.777180\n",
       "D    0.526110\n",
       "Name: 2025-01-23 00:00:00, dtype: float64"
      ]
     },
     "execution_count": 24,
     "metadata": {},
     "output_type": "execute_result"
    }
   ],
   "source": [
    "df.loc[dates[0]]"
   ]
  },
  {
   "cell_type": "markdown",
   "id": "3598c5a5-221a-40a4-afa2-5f8f798f8187",
   "metadata": {},
   "source": [
    "Label을 사용하여 여러 축의 데이터를 얻는다."
   ]
  },
  {
   "cell_type": "code",
   "execution_count": 25,
   "id": "820777a4-b67e-4759-8b31-03f75a67b8eb",
   "metadata": {},
   "outputs": [
    {
     "data": {
      "text/html": [
       "<div>\n",
       "<style scoped>\n",
       "    .dataframe tbody tr th:only-of-type {\n",
       "        vertical-align: middle;\n",
       "    }\n",
       "\n",
       "    .dataframe tbody tr th {\n",
       "        vertical-align: top;\n",
       "    }\n",
       "\n",
       "    .dataframe thead th {\n",
       "        text-align: right;\n",
       "    }\n",
       "</style>\n",
       "<table border=\"1\" class=\"dataframe\">\n",
       "  <thead>\n",
       "    <tr style=\"text-align: right;\">\n",
       "      <th></th>\n",
       "      <th>A</th>\n",
       "      <th>B</th>\n",
       "    </tr>\n",
       "  </thead>\n",
       "  <tbody>\n",
       "    <tr>\n",
       "      <th>2025-01-23</th>\n",
       "      <td>0.782546</td>\n",
       "      <td>2.138515</td>\n",
       "    </tr>\n",
       "    <tr>\n",
       "      <th>2025-01-24</th>\n",
       "      <td>0.797693</td>\n",
       "      <td>0.982986</td>\n",
       "    </tr>\n",
       "    <tr>\n",
       "      <th>2025-01-25</th>\n",
       "      <td>0.152760</td>\n",
       "      <td>-1.482798</td>\n",
       "    </tr>\n",
       "    <tr>\n",
       "      <th>2025-01-26</th>\n",
       "      <td>-1.254234</td>\n",
       "      <td>0.468886</td>\n",
       "    </tr>\n",
       "    <tr>\n",
       "      <th>2025-01-27</th>\n",
       "      <td>0.152301</td>\n",
       "      <td>0.589697</td>\n",
       "    </tr>\n",
       "    <tr>\n",
       "      <th>2025-01-28</th>\n",
       "      <td>-0.430604</td>\n",
       "      <td>-0.692097</td>\n",
       "    </tr>\n",
       "  </tbody>\n",
       "</table>\n",
       "</div>"
      ],
      "text/plain": [
       "                   A         B\n",
       "2025-01-23  0.782546  2.138515\n",
       "2025-01-24  0.797693  0.982986\n",
       "2025-01-25  0.152760 -1.482798\n",
       "2025-01-26 -1.254234  0.468886\n",
       "2025-01-27  0.152301  0.589697\n",
       "2025-01-28 -0.430604 -0.692097"
      ]
     },
     "execution_count": 25,
     "metadata": {},
     "output_type": "execute_result"
    }
   ],
   "source": [
    "df.loc[:, ['A', 'B']]"
   ]
  },
  {
   "cell_type": "markdown",
   "id": "f17468d8-714f-4c58-a98e-172e28d4a996",
   "metadata": {},
   "source": [
    "양쪽 종단점을 포함한 Label 슬라이싱을 본다."
   ]
  },
  {
   "cell_type": "code",
   "execution_count": 26,
   "id": "5b9c32ba-2f61-41b6-bc83-35411ab38cb7",
   "metadata": {},
   "outputs": [
    {
     "data": {
      "text/html": [
       "<div>\n",
       "<style scoped>\n",
       "    .dataframe tbody tr th:only-of-type {\n",
       "        vertical-align: middle;\n",
       "    }\n",
       "\n",
       "    .dataframe tbody tr th {\n",
       "        vertical-align: top;\n",
       "    }\n",
       "\n",
       "    .dataframe thead th {\n",
       "        text-align: right;\n",
       "    }\n",
       "</style>\n",
       "<table border=\"1\" class=\"dataframe\">\n",
       "  <thead>\n",
       "    <tr style=\"text-align: right;\">\n",
       "      <th></th>\n",
       "      <th>A</th>\n",
       "      <th>B</th>\n",
       "    </tr>\n",
       "  </thead>\n",
       "  <tbody>\n",
       "    <tr>\n",
       "      <th>2025-01-23</th>\n",
       "      <td>0.782546</td>\n",
       "      <td>2.138515</td>\n",
       "    </tr>\n",
       "    <tr>\n",
       "      <th>2025-01-24</th>\n",
       "      <td>0.797693</td>\n",
       "      <td>0.982986</td>\n",
       "    </tr>\n",
       "    <tr>\n",
       "      <th>2025-01-25</th>\n",
       "      <td>0.152760</td>\n",
       "      <td>-1.482798</td>\n",
       "    </tr>\n",
       "  </tbody>\n",
       "</table>\n",
       "</div>"
      ],
      "text/plain": [
       "                   A         B\n",
       "2025-01-23  0.782546  2.138515\n",
       "2025-01-24  0.797693  0.982986\n",
       "2025-01-25  0.152760 -1.482798"
      ]
     },
     "execution_count": 26,
     "metadata": {},
     "output_type": "execute_result"
    }
   ],
   "source": [
    "df.loc['20250123':'20250125', ['A','B']]"
   ]
  },
  {
   "cell_type": "markdown",
   "id": "b67d1a8c-e64a-4332-a50f-068e6ff9d9dc",
   "metadata": {},
   "source": [
    "반환되는 객체의 차원을 줄인다."
   ]
  },
  {
   "cell_type": "code",
   "execution_count": 27,
   "id": "fe3136fb-6db8-44d2-977d-0a869e310481",
   "metadata": {},
   "outputs": [
    {
     "data": {
      "text/plain": [
       "A    0.782546\n",
       "B    2.138515\n",
       "Name: 2025-01-23 00:00:00, dtype: float64"
      ]
     },
     "execution_count": 27,
     "metadata": {},
     "output_type": "execute_result"
    }
   ],
   "source": [
    "df.loc['20250123', ['A','B']]"
   ]
  },
  {
   "cell_type": "markdown",
   "id": "0c4081b4-66a3-46e1-ae4c-3975269ab861",
   "metadata": {},
   "source": [
    "스칼라 값을 얻는다."
   ]
  },
  {
   "cell_type": "code",
   "execution_count": 28,
   "id": "aaa582ba-f451-45b8-a42d-7cc9fdcbb3cd",
   "metadata": {},
   "outputs": [
    {
     "data": {
      "text/plain": [
       "np.float64(0.7825457529104672)"
      ]
     },
     "execution_count": 28,
     "metadata": {},
     "output_type": "execute_result"
    }
   ],
   "source": [
    "df.loc[dates[0], 'A']"
   ]
  },
  {
   "cell_type": "markdown",
   "id": "901b676f-00ee-4172-97f2-e1bcdcf30192",
   "metadata": {},
   "source": [
    "스칼라 값을 더 빠르게 구하는 방법(앞선 메소드와 동일)"
   ]
  },
  {
   "cell_type": "code",
   "execution_count": 29,
   "id": "dac01f29-d6d0-4556-9964-ad1ca9193049",
   "metadata": {},
   "outputs": [
    {
     "data": {
      "text/plain": [
       "np.float64(0.7825457529104672)"
      ]
     },
     "execution_count": 29,
     "metadata": {},
     "output_type": "execute_result"
    }
   ],
   "source": [
    "df.at[dates[0], 'A']"
   ]
  },
  {
   "cell_type": "markdown",
   "id": "fbd1d1ff-c92e-49e6-be21-dd736cc984a1",
   "metadata": {},
   "source": [
    "### Selection by Position (위치로 선택하기)\n",
    "\n",
    "넘겨받은 정수의 위치(인덱스)를 기준으로 선택한다."
   ]
  },
  {
   "cell_type": "code",
   "execution_count": 30,
   "id": "301383e9-8cdf-49de-9291-fc9a1e066ff1",
   "metadata": {},
   "outputs": [
    {
     "data": {
      "text/plain": [
       "A   -1.254234\n",
       "B    0.468886\n",
       "C   -0.263169\n",
       "D   -0.492807\n",
       "Name: 2025-01-26 00:00:00, dtype: float64"
      ]
     },
     "execution_count": 30,
     "metadata": {},
     "output_type": "execute_result"
    }
   ],
   "source": [
    "df.iloc[3]"
   ]
  },
  {
   "cell_type": "markdown",
   "id": "56b79fe0-eec1-485e-9e58-f778b6cfe086",
   "metadata": {},
   "source": [
    "정수로 표기된 슬라이스들을 통해, Python/Numpy와 유사하게 작동한다."
   ]
  },
  {
   "cell_type": "code",
   "execution_count": 31,
   "id": "93f468a5-8693-4b00-bf44-2bfed6d479a7",
   "metadata": {},
   "outputs": [
    {
     "data": {
      "text/html": [
       "<div>\n",
       "<style scoped>\n",
       "    .dataframe tbody tr th:only-of-type {\n",
       "        vertical-align: middle;\n",
       "    }\n",
       "\n",
       "    .dataframe tbody tr th {\n",
       "        vertical-align: top;\n",
       "    }\n",
       "\n",
       "    .dataframe thead th {\n",
       "        text-align: right;\n",
       "    }\n",
       "</style>\n",
       "<table border=\"1\" class=\"dataframe\">\n",
       "  <thead>\n",
       "    <tr style=\"text-align: right;\">\n",
       "      <th></th>\n",
       "      <th>A</th>\n",
       "      <th>B</th>\n",
       "    </tr>\n",
       "  </thead>\n",
       "  <tbody>\n",
       "    <tr>\n",
       "      <th>2025-01-26</th>\n",
       "      <td>-1.254234</td>\n",
       "      <td>0.468886</td>\n",
       "    </tr>\n",
       "    <tr>\n",
       "      <th>2025-01-27</th>\n",
       "      <td>0.152301</td>\n",
       "      <td>0.589697</td>\n",
       "    </tr>\n",
       "  </tbody>\n",
       "</table>\n",
       "</div>"
      ],
      "text/plain": [
       "                   A         B\n",
       "2025-01-26 -1.254234  0.468886\n",
       "2025-01-27  0.152301  0.589697"
      ]
     },
     "execution_count": 31,
     "metadata": {},
     "output_type": "execute_result"
    }
   ],
   "source": [
    "df.iloc[3:5, 0:2]"
   ]
  },
  {
   "cell_type": "markdown",
   "id": "6fc7483c-6811-4025-9f86-810ca974f5dc",
   "metadata": {},
   "source": [
    "정수로 표기된 위치값의 리스트들을 통해, Python/Numpy의 스타일과 유사해진다."
   ]
  },
  {
   "cell_type": "code",
   "execution_count": 32,
   "id": "6cdfd577-bbfd-4956-8649-6ced28102f27",
   "metadata": {},
   "outputs": [
    {
     "data": {
      "text/html": [
       "<div>\n",
       "<style scoped>\n",
       "    .dataframe tbody tr th:only-of-type {\n",
       "        vertical-align: middle;\n",
       "    }\n",
       "\n",
       "    .dataframe tbody tr th {\n",
       "        vertical-align: top;\n",
       "    }\n",
       "\n",
       "    .dataframe thead th {\n",
       "        text-align: right;\n",
       "    }\n",
       "</style>\n",
       "<table border=\"1\" class=\"dataframe\">\n",
       "  <thead>\n",
       "    <tr style=\"text-align: right;\">\n",
       "      <th></th>\n",
       "      <th>A</th>\n",
       "      <th>C</th>\n",
       "    </tr>\n",
       "  </thead>\n",
       "  <tbody>\n",
       "    <tr>\n",
       "      <th>2025-01-24</th>\n",
       "      <td>0.797693</td>\n",
       "      <td>-0.089695</td>\n",
       "    </tr>\n",
       "    <tr>\n",
       "      <th>2025-01-25</th>\n",
       "      <td>0.152760</td>\n",
       "      <td>1.273267</td>\n",
       "    </tr>\n",
       "    <tr>\n",
       "      <th>2025-01-27</th>\n",
       "      <td>0.152301</td>\n",
       "      <td>0.294021</td>\n",
       "    </tr>\n",
       "  </tbody>\n",
       "</table>\n",
       "</div>"
      ],
      "text/plain": [
       "                   A         C\n",
       "2025-01-24  0.797693 -0.089695\n",
       "2025-01-25  0.152760  1.273267\n",
       "2025-01-27  0.152301  0.294021"
      ]
     },
     "execution_count": 32,
     "metadata": {},
     "output_type": "execute_result"
    }
   ],
   "source": [
    "df.iloc[[1,2,4],[0,2]]"
   ]
  },
  {
   "cell_type": "markdown",
   "id": "54b69481-a471-4e75-9493-0de7bebed97b",
   "metadata": {},
   "source": [
    "명시적으로 행을 나누고자 하는 경우"
   ]
  },
  {
   "cell_type": "code",
   "execution_count": 33,
   "id": "6a449947-6245-4032-9a87-d0984dcfdd30",
   "metadata": {},
   "outputs": [
    {
     "data": {
      "text/html": [
       "<div>\n",
       "<style scoped>\n",
       "    .dataframe tbody tr th:only-of-type {\n",
       "        vertical-align: middle;\n",
       "    }\n",
       "\n",
       "    .dataframe tbody tr th {\n",
       "        vertical-align: top;\n",
       "    }\n",
       "\n",
       "    .dataframe thead th {\n",
       "        text-align: right;\n",
       "    }\n",
       "</style>\n",
       "<table border=\"1\" class=\"dataframe\">\n",
       "  <thead>\n",
       "    <tr style=\"text-align: right;\">\n",
       "      <th></th>\n",
       "      <th>A</th>\n",
       "      <th>B</th>\n",
       "      <th>C</th>\n",
       "      <th>D</th>\n",
       "    </tr>\n",
       "  </thead>\n",
       "  <tbody>\n",
       "    <tr>\n",
       "      <th>2025-01-24</th>\n",
       "      <td>0.797693</td>\n",
       "      <td>0.982986</td>\n",
       "      <td>-0.089695</td>\n",
       "      <td>-0.909473</td>\n",
       "    </tr>\n",
       "    <tr>\n",
       "      <th>2025-01-25</th>\n",
       "      <td>0.152760</td>\n",
       "      <td>-1.482798</td>\n",
       "      <td>1.273267</td>\n",
       "      <td>-0.675653</td>\n",
       "    </tr>\n",
       "  </tbody>\n",
       "</table>\n",
       "</div>"
      ],
      "text/plain": [
       "                   A         B         C         D\n",
       "2025-01-24  0.797693  0.982986 -0.089695 -0.909473\n",
       "2025-01-25  0.152760 -1.482798  1.273267 -0.675653"
      ]
     },
     "execution_count": 33,
     "metadata": {},
     "output_type": "execute_result"
    }
   ],
   "source": [
    "df.iloc[1:3,:]"
   ]
  },
  {
   "cell_type": "markdown",
   "id": "900aaae2-041e-4dcd-b7f6-5f8eb3c4cc5b",
   "metadata": {},
   "source": [
    "명시적으로 열을 나누고자 하는 경우"
   ]
  },
  {
   "cell_type": "code",
   "execution_count": 34,
   "id": "9dcfc627-f64c-40de-86f7-2a5b279f1292",
   "metadata": {},
   "outputs": [
    {
     "data": {
      "text/html": [
       "<div>\n",
       "<style scoped>\n",
       "    .dataframe tbody tr th:only-of-type {\n",
       "        vertical-align: middle;\n",
       "    }\n",
       "\n",
       "    .dataframe tbody tr th {\n",
       "        vertical-align: top;\n",
       "    }\n",
       "\n",
       "    .dataframe thead th {\n",
       "        text-align: right;\n",
       "    }\n",
       "</style>\n",
       "<table border=\"1\" class=\"dataframe\">\n",
       "  <thead>\n",
       "    <tr style=\"text-align: right;\">\n",
       "      <th></th>\n",
       "      <th>B</th>\n",
       "      <th>C</th>\n",
       "    </tr>\n",
       "  </thead>\n",
       "  <tbody>\n",
       "    <tr>\n",
       "      <th>2025-01-23</th>\n",
       "      <td>2.138515</td>\n",
       "      <td>-0.777180</td>\n",
       "    </tr>\n",
       "    <tr>\n",
       "      <th>2025-01-24</th>\n",
       "      <td>0.982986</td>\n",
       "      <td>-0.089695</td>\n",
       "    </tr>\n",
       "    <tr>\n",
       "      <th>2025-01-25</th>\n",
       "      <td>-1.482798</td>\n",
       "      <td>1.273267</td>\n",
       "    </tr>\n",
       "    <tr>\n",
       "      <th>2025-01-26</th>\n",
       "      <td>0.468886</td>\n",
       "      <td>-0.263169</td>\n",
       "    </tr>\n",
       "    <tr>\n",
       "      <th>2025-01-27</th>\n",
       "      <td>0.589697</td>\n",
       "      <td>0.294021</td>\n",
       "    </tr>\n",
       "    <tr>\n",
       "      <th>2025-01-28</th>\n",
       "      <td>-0.692097</td>\n",
       "      <td>2.059360</td>\n",
       "    </tr>\n",
       "  </tbody>\n",
       "</table>\n",
       "</div>"
      ],
      "text/plain": [
       "                   B         C\n",
       "2025-01-23  2.138515 -0.777180\n",
       "2025-01-24  0.982986 -0.089695\n",
       "2025-01-25 -1.482798  1.273267\n",
       "2025-01-26  0.468886 -0.263169\n",
       "2025-01-27  0.589697  0.294021\n",
       "2025-01-28 -0.692097  2.059360"
      ]
     },
     "execution_count": 34,
     "metadata": {},
     "output_type": "execute_result"
    }
   ],
   "source": [
    "df.iloc[:,1:3]"
   ]
  },
  {
   "cell_type": "markdown",
   "id": "788830d8-95ff-41f3-b378-fad01e0a30a9",
   "metadata": {},
   "source": [
    "명시적으로 (특정한) 값을 얻고자 하는 경우"
   ]
  },
  {
   "cell_type": "code",
   "execution_count": 35,
   "id": "b3896863-cb76-4284-9f15-ca746d87caba",
   "metadata": {},
   "outputs": [
    {
     "data": {
      "text/plain": [
       "np.float64(0.9829863441501647)"
      ]
     },
     "execution_count": 35,
     "metadata": {},
     "output_type": "execute_result"
    }
   ],
   "source": [
    "df.iloc[1,1]"
   ]
  },
  {
   "cell_type": "markdown",
   "id": "90aeac6e-e1a2-453c-8b9b-a793bf922835",
   "metadata": {},
   "source": [
    "스칼라 값을 빠르게 얻는 방법 (위와 동일)"
   ]
  },
  {
   "cell_type": "code",
   "execution_count": 36,
   "id": "4f3084f6-e3fe-4625-b241-8b74d3de55fd",
   "metadata": {},
   "outputs": [
    {
     "data": {
      "text/plain": [
       "np.float64(0.9829863441501647)"
      ]
     },
     "execution_count": 36,
     "metadata": {},
     "output_type": "execute_result"
    }
   ],
   "source": [
    "df.iat[1,1]"
   ]
  },
  {
   "cell_type": "markdown",
   "id": "d3bd1908-f13e-40d6-add7-dbb1d58da7d2",
   "metadata": {},
   "source": [
    "### Boolean Indexing\n",
    "\n",
    "데이터를 선택하기 위해 단일 열의 값을 사용한다."
   ]
  },
  {
   "cell_type": "code",
   "execution_count": 37,
   "id": "5907d78e-ee3c-4e9f-b7b4-c690e5cb5a63",
   "metadata": {},
   "outputs": [
    {
     "data": {
      "text/html": [
       "<div>\n",
       "<style scoped>\n",
       "    .dataframe tbody tr th:only-of-type {\n",
       "        vertical-align: middle;\n",
       "    }\n",
       "\n",
       "    .dataframe tbody tr th {\n",
       "        vertical-align: top;\n",
       "    }\n",
       "\n",
       "    .dataframe thead th {\n",
       "        text-align: right;\n",
       "    }\n",
       "</style>\n",
       "<table border=\"1\" class=\"dataframe\">\n",
       "  <thead>\n",
       "    <tr style=\"text-align: right;\">\n",
       "      <th></th>\n",
       "      <th>A</th>\n",
       "      <th>B</th>\n",
       "      <th>C</th>\n",
       "      <th>D</th>\n",
       "    </tr>\n",
       "  </thead>\n",
       "  <tbody>\n",
       "    <tr>\n",
       "      <th>2025-01-23</th>\n",
       "      <td>0.782546</td>\n",
       "      <td>2.138515</td>\n",
       "      <td>-0.777180</td>\n",
       "      <td>0.526110</td>\n",
       "    </tr>\n",
       "    <tr>\n",
       "      <th>2025-01-24</th>\n",
       "      <td>0.797693</td>\n",
       "      <td>0.982986</td>\n",
       "      <td>-0.089695</td>\n",
       "      <td>-0.909473</td>\n",
       "    </tr>\n",
       "    <tr>\n",
       "      <th>2025-01-25</th>\n",
       "      <td>0.152760</td>\n",
       "      <td>-1.482798</td>\n",
       "      <td>1.273267</td>\n",
       "      <td>-0.675653</td>\n",
       "    </tr>\n",
       "    <tr>\n",
       "      <th>2025-01-27</th>\n",
       "      <td>0.152301</td>\n",
       "      <td>0.589697</td>\n",
       "      <td>0.294021</td>\n",
       "      <td>-1.006312</td>\n",
       "    </tr>\n",
       "  </tbody>\n",
       "</table>\n",
       "</div>"
      ],
      "text/plain": [
       "                   A         B         C         D\n",
       "2025-01-23  0.782546  2.138515 -0.777180  0.526110\n",
       "2025-01-24  0.797693  0.982986 -0.089695 -0.909473\n",
       "2025-01-25  0.152760 -1.482798  1.273267 -0.675653\n",
       "2025-01-27  0.152301  0.589697  0.294021 -1.006312"
      ]
     },
     "execution_count": 37,
     "metadata": {},
     "output_type": "execute_result"
    }
   ],
   "source": [
    "df[df.A > 0]"
   ]
  },
  {
   "cell_type": "markdown",
   "id": "9aec0320-3295-4a03-add5-185457b506a0",
   "metadata": {},
   "source": [
    "Boolean 조건을 충족하는 DataFrame에서 값을 선택한다."
   ]
  },
  {
   "cell_type": "code",
   "execution_count": 38,
   "id": "6984b58a-2b2b-4a38-b788-ac8b549d3fad",
   "metadata": {},
   "outputs": [
    {
     "data": {
      "text/html": [
       "<div>\n",
       "<style scoped>\n",
       "    .dataframe tbody tr th:only-of-type {\n",
       "        vertical-align: middle;\n",
       "    }\n",
       "\n",
       "    .dataframe tbody tr th {\n",
       "        vertical-align: top;\n",
       "    }\n",
       "\n",
       "    .dataframe thead th {\n",
       "        text-align: right;\n",
       "    }\n",
       "</style>\n",
       "<table border=\"1\" class=\"dataframe\">\n",
       "  <thead>\n",
       "    <tr style=\"text-align: right;\">\n",
       "      <th></th>\n",
       "      <th>A</th>\n",
       "      <th>B</th>\n",
       "      <th>C</th>\n",
       "      <th>D</th>\n",
       "    </tr>\n",
       "  </thead>\n",
       "  <tbody>\n",
       "    <tr>\n",
       "      <th>2025-01-23</th>\n",
       "      <td>0.782546</td>\n",
       "      <td>2.138515</td>\n",
       "      <td>NaN</td>\n",
       "      <td>0.526110</td>\n",
       "    </tr>\n",
       "    <tr>\n",
       "      <th>2025-01-24</th>\n",
       "      <td>0.797693</td>\n",
       "      <td>0.982986</td>\n",
       "      <td>NaN</td>\n",
       "      <td>NaN</td>\n",
       "    </tr>\n",
       "    <tr>\n",
       "      <th>2025-01-25</th>\n",
       "      <td>0.152760</td>\n",
       "      <td>NaN</td>\n",
       "      <td>1.273267</td>\n",
       "      <td>NaN</td>\n",
       "    </tr>\n",
       "    <tr>\n",
       "      <th>2025-01-26</th>\n",
       "      <td>NaN</td>\n",
       "      <td>0.468886</td>\n",
       "      <td>NaN</td>\n",
       "      <td>NaN</td>\n",
       "    </tr>\n",
       "    <tr>\n",
       "      <th>2025-01-27</th>\n",
       "      <td>0.152301</td>\n",
       "      <td>0.589697</td>\n",
       "      <td>0.294021</td>\n",
       "      <td>NaN</td>\n",
       "    </tr>\n",
       "    <tr>\n",
       "      <th>2025-01-28</th>\n",
       "      <td>NaN</td>\n",
       "      <td>NaN</td>\n",
       "      <td>2.059360</td>\n",
       "      <td>0.975521</td>\n",
       "    </tr>\n",
       "  </tbody>\n",
       "</table>\n",
       "</div>"
      ],
      "text/plain": [
       "                   A         B         C         D\n",
       "2025-01-23  0.782546  2.138515       NaN  0.526110\n",
       "2025-01-24  0.797693  0.982986       NaN       NaN\n",
       "2025-01-25  0.152760       NaN  1.273267       NaN\n",
       "2025-01-26       NaN  0.468886       NaN       NaN\n",
       "2025-01-27  0.152301  0.589697  0.294021       NaN\n",
       "2025-01-28       NaN       NaN  2.059360  0.975521"
      ]
     },
     "execution_count": 38,
     "metadata": {},
     "output_type": "execute_result"
    }
   ],
   "source": [
    "df[df > 0]"
   ]
  },
  {
   "cell_type": "markdown",
   "id": "ede3095e-bba7-493d-9ee1-cfe8aea6a827",
   "metadata": {},
   "source": [
    "필터링을 위한 메소드 `isin()`을 사용한다."
   ]
  },
  {
   "cell_type": "code",
   "execution_count": 39,
   "id": "356a5c2d-d59b-44fd-b4ac-e15ddb9eaf9f",
   "metadata": {},
   "outputs": [],
   "source": [
    "df2 = df.copy()"
   ]
  },
  {
   "cell_type": "code",
   "execution_count": 40,
   "id": "7eded2ef-51a8-4ef7-9d58-09223579ac37",
   "metadata": {},
   "outputs": [],
   "source": [
    "df2['E'] = ['one', 'one', 'two', 'three', 'four', 'three']"
   ]
  },
  {
   "cell_type": "code",
   "execution_count": 41,
   "id": "71ab24b9-41cc-4f9f-b716-4ff5d93c2d47",
   "metadata": {},
   "outputs": [
    {
     "data": {
      "text/html": [
       "<div>\n",
       "<style scoped>\n",
       "    .dataframe tbody tr th:only-of-type {\n",
       "        vertical-align: middle;\n",
       "    }\n",
       "\n",
       "    .dataframe tbody tr th {\n",
       "        vertical-align: top;\n",
       "    }\n",
       "\n",
       "    .dataframe thead th {\n",
       "        text-align: right;\n",
       "    }\n",
       "</style>\n",
       "<table border=\"1\" class=\"dataframe\">\n",
       "  <thead>\n",
       "    <tr style=\"text-align: right;\">\n",
       "      <th></th>\n",
       "      <th>A</th>\n",
       "      <th>B</th>\n",
       "      <th>C</th>\n",
       "      <th>D</th>\n",
       "      <th>E</th>\n",
       "    </tr>\n",
       "  </thead>\n",
       "  <tbody>\n",
       "    <tr>\n",
       "      <th>2025-01-23</th>\n",
       "      <td>0.782546</td>\n",
       "      <td>2.138515</td>\n",
       "      <td>-0.777180</td>\n",
       "      <td>0.526110</td>\n",
       "      <td>one</td>\n",
       "    </tr>\n",
       "    <tr>\n",
       "      <th>2025-01-24</th>\n",
       "      <td>0.797693</td>\n",
       "      <td>0.982986</td>\n",
       "      <td>-0.089695</td>\n",
       "      <td>-0.909473</td>\n",
       "      <td>one</td>\n",
       "    </tr>\n",
       "    <tr>\n",
       "      <th>2025-01-25</th>\n",
       "      <td>0.152760</td>\n",
       "      <td>-1.482798</td>\n",
       "      <td>1.273267</td>\n",
       "      <td>-0.675653</td>\n",
       "      <td>two</td>\n",
       "    </tr>\n",
       "    <tr>\n",
       "      <th>2025-01-26</th>\n",
       "      <td>-1.254234</td>\n",
       "      <td>0.468886</td>\n",
       "      <td>-0.263169</td>\n",
       "      <td>-0.492807</td>\n",
       "      <td>three</td>\n",
       "    </tr>\n",
       "    <tr>\n",
       "      <th>2025-01-27</th>\n",
       "      <td>0.152301</td>\n",
       "      <td>0.589697</td>\n",
       "      <td>0.294021</td>\n",
       "      <td>-1.006312</td>\n",
       "      <td>four</td>\n",
       "    </tr>\n",
       "    <tr>\n",
       "      <th>2025-01-28</th>\n",
       "      <td>-0.430604</td>\n",
       "      <td>-0.692097</td>\n",
       "      <td>2.059360</td>\n",
       "      <td>0.975521</td>\n",
       "      <td>three</td>\n",
       "    </tr>\n",
       "  </tbody>\n",
       "</table>\n",
       "</div>"
      ],
      "text/plain": [
       "                   A         B         C         D      E\n",
       "2025-01-23  0.782546  2.138515 -0.777180  0.526110    one\n",
       "2025-01-24  0.797693  0.982986 -0.089695 -0.909473    one\n",
       "2025-01-25  0.152760 -1.482798  1.273267 -0.675653    two\n",
       "2025-01-26 -1.254234  0.468886 -0.263169 -0.492807  three\n",
       "2025-01-27  0.152301  0.589697  0.294021 -1.006312   four\n",
       "2025-01-28 -0.430604 -0.692097  2.059360  0.975521  three"
      ]
     },
     "execution_count": 41,
     "metadata": {},
     "output_type": "execute_result"
    }
   ],
   "source": [
    "df2"
   ]
  },
  {
   "cell_type": "code",
   "execution_count": 42,
   "id": "ea390669-2744-40b3-8188-3ac0fdc0ad03",
   "metadata": {},
   "outputs": [
    {
     "data": {
      "text/html": [
       "<div>\n",
       "<style scoped>\n",
       "    .dataframe tbody tr th:only-of-type {\n",
       "        vertical-align: middle;\n",
       "    }\n",
       "\n",
       "    .dataframe tbody tr th {\n",
       "        vertical-align: top;\n",
       "    }\n",
       "\n",
       "    .dataframe thead th {\n",
       "        text-align: right;\n",
       "    }\n",
       "</style>\n",
       "<table border=\"1\" class=\"dataframe\">\n",
       "  <thead>\n",
       "    <tr style=\"text-align: right;\">\n",
       "      <th></th>\n",
       "      <th>A</th>\n",
       "      <th>B</th>\n",
       "      <th>C</th>\n",
       "      <th>D</th>\n",
       "      <th>E</th>\n",
       "    </tr>\n",
       "  </thead>\n",
       "  <tbody>\n",
       "    <tr>\n",
       "      <th>2025-01-25</th>\n",
       "      <td>0.152760</td>\n",
       "      <td>-1.482798</td>\n",
       "      <td>1.273267</td>\n",
       "      <td>-0.675653</td>\n",
       "      <td>two</td>\n",
       "    </tr>\n",
       "    <tr>\n",
       "      <th>2025-01-27</th>\n",
       "      <td>0.152301</td>\n",
       "      <td>0.589697</td>\n",
       "      <td>0.294021</td>\n",
       "      <td>-1.006312</td>\n",
       "      <td>four</td>\n",
       "    </tr>\n",
       "  </tbody>\n",
       "</table>\n",
       "</div>"
      ],
      "text/plain": [
       "                   A         B         C         D     E\n",
       "2025-01-25  0.152760 -1.482798  1.273267 -0.675653   two\n",
       "2025-01-27  0.152301  0.589697  0.294021 -1.006312  four"
      ]
     },
     "execution_count": 42,
     "metadata": {},
     "output_type": "execute_result"
    }
   ],
   "source": [
    "df2[df2['E'].isin(['two', 'four'])]"
   ]
  },
  {
   "cell_type": "markdown",
   "id": "8bb38960-3cbd-43b7-b821-e67171518855",
   "metadata": {},
   "source": [
    "### Setting (설정)\n",
    "\n",
    "새 열을 설정하면 데이터가 인덱스 별로 자동 정렬된다."
   ]
  },
  {
   "cell_type": "code",
   "execution_count": 43,
   "id": "cca63680-6c5e-44d2-bf7a-df4473bc7c3b",
   "metadata": {},
   "outputs": [],
   "source": [
    "s1 = pd.Series([1, 2, 3, 4, 5, 6], index = pd.date_range('20250123', periods=6))"
   ]
  },
  {
   "cell_type": "code",
   "execution_count": 44,
   "id": "1b83ef87-7fb8-4bd5-9fdf-134cdcd845d5",
   "metadata": {},
   "outputs": [
    {
     "data": {
      "text/plain": [
       "2025-01-23    1\n",
       "2025-01-24    2\n",
       "2025-01-25    3\n",
       "2025-01-26    4\n",
       "2025-01-27    5\n",
       "2025-01-28    6\n",
       "Freq: D, dtype: int64"
      ]
     },
     "execution_count": 44,
     "metadata": {},
     "output_type": "execute_result"
    }
   ],
   "source": [
    "s1"
   ]
  },
  {
   "cell_type": "code",
   "execution_count": 45,
   "id": "bc1a1c52-0424-4a5a-aac5-5f8ac92a4285",
   "metadata": {},
   "outputs": [],
   "source": [
    "df['F'] = s1"
   ]
  },
  {
   "cell_type": "markdown",
   "id": "4c5858b6-8e3f-488a-8c32-82b3d5de97e7",
   "metadata": {},
   "source": [
    "Label에 의해 값을 설정한다."
   ]
  },
  {
   "cell_type": "code",
   "execution_count": 46,
   "id": "42d8dc5e-4620-46f8-8a5b-81b8fca780c3",
   "metadata": {},
   "outputs": [],
   "source": [
    "df.at[dates[0], 'A'] = 0"
   ]
  },
  {
   "cell_type": "markdown",
   "id": "688afb8e-7fd4-4109-85ec-994feebb27a4",
   "metadata": {},
   "source": [
    "위치에 의해 값을 설정한다."
   ]
  },
  {
   "cell_type": "code",
   "execution_count": 47,
   "id": "7d8ac637-fc4f-4134-a220-06fcf9b6fc3e",
   "metadata": {},
   "outputs": [],
   "source": [
    "df.iat[0, 1] = 0"
   ]
  },
  {
   "cell_type": "markdown",
   "id": "1ef52cae-69c7-48f9-91f4-4b97fb2b4cd5",
   "metadata": {},
   "source": [
    "Numpy 배열을 사용한 할당에 의해 값을 설정한다."
   ]
  },
  {
   "cell_type": "code",
   "execution_count": 48,
   "id": "89b62848-885d-4595-97c4-6dee0d8e03ae",
   "metadata": {},
   "outputs": [],
   "source": [
    "df.loc[:, 'D'] = np.array([5] * len(df))"
   ]
  },
  {
   "cell_type": "markdown",
   "id": "25ab5f17-1c9f-4c21-b8a9-263ab01b34be",
   "metadata": {},
   "source": [
    "위 설정대로 작동한 결과"
   ]
  },
  {
   "cell_type": "code",
   "execution_count": 49,
   "id": "c8583332-7812-46b9-b2a2-e88c4e2b5bb2",
   "metadata": {},
   "outputs": [
    {
     "data": {
      "text/html": [
       "<div>\n",
       "<style scoped>\n",
       "    .dataframe tbody tr th:only-of-type {\n",
       "        vertical-align: middle;\n",
       "    }\n",
       "\n",
       "    .dataframe tbody tr th {\n",
       "        vertical-align: top;\n",
       "    }\n",
       "\n",
       "    .dataframe thead th {\n",
       "        text-align: right;\n",
       "    }\n",
       "</style>\n",
       "<table border=\"1\" class=\"dataframe\">\n",
       "  <thead>\n",
       "    <tr style=\"text-align: right;\">\n",
       "      <th></th>\n",
       "      <th>A</th>\n",
       "      <th>B</th>\n",
       "      <th>C</th>\n",
       "      <th>D</th>\n",
       "      <th>F</th>\n",
       "    </tr>\n",
       "  </thead>\n",
       "  <tbody>\n",
       "    <tr>\n",
       "      <th>2025-01-23</th>\n",
       "      <td>0.000000</td>\n",
       "      <td>0.000000</td>\n",
       "      <td>-0.777180</td>\n",
       "      <td>5.0</td>\n",
       "      <td>1</td>\n",
       "    </tr>\n",
       "    <tr>\n",
       "      <th>2025-01-24</th>\n",
       "      <td>0.797693</td>\n",
       "      <td>0.982986</td>\n",
       "      <td>-0.089695</td>\n",
       "      <td>5.0</td>\n",
       "      <td>2</td>\n",
       "    </tr>\n",
       "    <tr>\n",
       "      <th>2025-01-25</th>\n",
       "      <td>0.152760</td>\n",
       "      <td>-1.482798</td>\n",
       "      <td>1.273267</td>\n",
       "      <td>5.0</td>\n",
       "      <td>3</td>\n",
       "    </tr>\n",
       "    <tr>\n",
       "      <th>2025-01-26</th>\n",
       "      <td>-1.254234</td>\n",
       "      <td>0.468886</td>\n",
       "      <td>-0.263169</td>\n",
       "      <td>5.0</td>\n",
       "      <td>4</td>\n",
       "    </tr>\n",
       "    <tr>\n",
       "      <th>2025-01-27</th>\n",
       "      <td>0.152301</td>\n",
       "      <td>0.589697</td>\n",
       "      <td>0.294021</td>\n",
       "      <td>5.0</td>\n",
       "      <td>5</td>\n",
       "    </tr>\n",
       "    <tr>\n",
       "      <th>2025-01-28</th>\n",
       "      <td>-0.430604</td>\n",
       "      <td>-0.692097</td>\n",
       "      <td>2.059360</td>\n",
       "      <td>5.0</td>\n",
       "      <td>6</td>\n",
       "    </tr>\n",
       "  </tbody>\n",
       "</table>\n",
       "</div>"
      ],
      "text/plain": [
       "                   A         B         C    D  F\n",
       "2025-01-23  0.000000  0.000000 -0.777180  5.0  1\n",
       "2025-01-24  0.797693  0.982986 -0.089695  5.0  2\n",
       "2025-01-25  0.152760 -1.482798  1.273267  5.0  3\n",
       "2025-01-26 -1.254234  0.468886 -0.263169  5.0  4\n",
       "2025-01-27  0.152301  0.589697  0.294021  5.0  5\n",
       "2025-01-28 -0.430604 -0.692097  2.059360  5.0  6"
      ]
     },
     "execution_count": 49,
     "metadata": {},
     "output_type": "execute_result"
    }
   ],
   "source": [
    "df"
   ]
  },
  {
   "cell_type": "markdown",
   "id": "4239ff30-5aef-4fa8-8b56-a58a133e9cf2",
   "metadata": {},
   "source": [
    "where 연산을 설정한다."
   ]
  },
  {
   "cell_type": "code",
   "execution_count": 50,
   "id": "f28e0baa-b44a-4b0d-b47e-852c65c70883",
   "metadata": {},
   "outputs": [],
   "source": [
    "df2 = df.copy()"
   ]
  },
  {
   "cell_type": "code",
   "execution_count": 51,
   "id": "0472a756-99db-445c-9b86-8317e3392148",
   "metadata": {},
   "outputs": [],
   "source": [
    "df2[df2 > 0] = -df2"
   ]
  },
  {
   "cell_type": "code",
   "execution_count": 52,
   "id": "5e28f745-d61b-4517-bbcb-1c77703efc82",
   "metadata": {},
   "outputs": [
    {
     "data": {
      "text/html": [
       "<div>\n",
       "<style scoped>\n",
       "    .dataframe tbody tr th:only-of-type {\n",
       "        vertical-align: middle;\n",
       "    }\n",
       "\n",
       "    .dataframe tbody tr th {\n",
       "        vertical-align: top;\n",
       "    }\n",
       "\n",
       "    .dataframe thead th {\n",
       "        text-align: right;\n",
       "    }\n",
       "</style>\n",
       "<table border=\"1\" class=\"dataframe\">\n",
       "  <thead>\n",
       "    <tr style=\"text-align: right;\">\n",
       "      <th></th>\n",
       "      <th>A</th>\n",
       "      <th>B</th>\n",
       "      <th>C</th>\n",
       "      <th>D</th>\n",
       "      <th>F</th>\n",
       "    </tr>\n",
       "  </thead>\n",
       "  <tbody>\n",
       "    <tr>\n",
       "      <th>2025-01-23</th>\n",
       "      <td>0.000000</td>\n",
       "      <td>0.000000</td>\n",
       "      <td>-0.777180</td>\n",
       "      <td>-5.0</td>\n",
       "      <td>-1</td>\n",
       "    </tr>\n",
       "    <tr>\n",
       "      <th>2025-01-24</th>\n",
       "      <td>-0.797693</td>\n",
       "      <td>-0.982986</td>\n",
       "      <td>-0.089695</td>\n",
       "      <td>-5.0</td>\n",
       "      <td>-2</td>\n",
       "    </tr>\n",
       "    <tr>\n",
       "      <th>2025-01-25</th>\n",
       "      <td>-0.152760</td>\n",
       "      <td>-1.482798</td>\n",
       "      <td>-1.273267</td>\n",
       "      <td>-5.0</td>\n",
       "      <td>-3</td>\n",
       "    </tr>\n",
       "    <tr>\n",
       "      <th>2025-01-26</th>\n",
       "      <td>-1.254234</td>\n",
       "      <td>-0.468886</td>\n",
       "      <td>-0.263169</td>\n",
       "      <td>-5.0</td>\n",
       "      <td>-4</td>\n",
       "    </tr>\n",
       "    <tr>\n",
       "      <th>2025-01-27</th>\n",
       "      <td>-0.152301</td>\n",
       "      <td>-0.589697</td>\n",
       "      <td>-0.294021</td>\n",
       "      <td>-5.0</td>\n",
       "      <td>-5</td>\n",
       "    </tr>\n",
       "    <tr>\n",
       "      <th>2025-01-28</th>\n",
       "      <td>-0.430604</td>\n",
       "      <td>-0.692097</td>\n",
       "      <td>-2.059360</td>\n",
       "      <td>-5.0</td>\n",
       "      <td>-6</td>\n",
       "    </tr>\n",
       "  </tbody>\n",
       "</table>\n",
       "</div>"
      ],
      "text/plain": [
       "                   A         B         C    D  F\n",
       "2025-01-23  0.000000  0.000000 -0.777180 -5.0 -1\n",
       "2025-01-24 -0.797693 -0.982986 -0.089695 -5.0 -2\n",
       "2025-01-25 -0.152760 -1.482798 -1.273267 -5.0 -3\n",
       "2025-01-26 -1.254234 -0.468886 -0.263169 -5.0 -4\n",
       "2025-01-27 -0.152301 -0.589697 -0.294021 -5.0 -5\n",
       "2025-01-28 -0.430604 -0.692097 -2.059360 -5.0 -6"
      ]
     },
     "execution_count": 52,
     "metadata": {},
     "output_type": "execute_result"
    }
   ],
   "source": [
    "df2"
   ]
  },
  {
   "cell_type": "markdown",
   "id": "83e59f7f-a2a5-4512-8a5f-c0810097cc37",
   "metadata": {},
   "source": [
    "## 4. Missing Data (결측치)\n",
    "\n",
    "Pandas는 결측치를 표현하기 위해 주로 `NaN` 값을 사용한다.\n",
    "이 방법은 기본 설정값이지만 계산에는 포함되지 않는다.\n",
    "\n",
    "Reindexing으로 지정된 column 상의 인덱스를 변경/추가/삭제할 수 있다.\n",
    "Reindexing은 데이터의 복사본을 반환한다."
   ]
  },
  {
   "cell_type": "code",
   "execution_count": 53,
   "id": "b7ccc2ec",
   "metadata": {},
   "outputs": [],
   "source": [
    "df1 = df.reindex(index=dates[0:4], columns=list(df.columns) + ['E'])"
   ]
  },
  {
   "cell_type": "code",
   "execution_count": 54,
   "id": "56e11be4",
   "metadata": {},
   "outputs": [],
   "source": [
    "df1.loc[dates[0]:dates[1], 'E'] = 1"
   ]
  },
  {
   "cell_type": "code",
   "execution_count": 55,
   "id": "a2e20420",
   "metadata": {},
   "outputs": [
    {
     "data": {
      "text/html": [
       "<div>\n",
       "<style scoped>\n",
       "    .dataframe tbody tr th:only-of-type {\n",
       "        vertical-align: middle;\n",
       "    }\n",
       "\n",
       "    .dataframe tbody tr th {\n",
       "        vertical-align: top;\n",
       "    }\n",
       "\n",
       "    .dataframe thead th {\n",
       "        text-align: right;\n",
       "    }\n",
       "</style>\n",
       "<table border=\"1\" class=\"dataframe\">\n",
       "  <thead>\n",
       "    <tr style=\"text-align: right;\">\n",
       "      <th></th>\n",
       "      <th>A</th>\n",
       "      <th>B</th>\n",
       "      <th>C</th>\n",
       "      <th>D</th>\n",
       "      <th>F</th>\n",
       "      <th>E</th>\n",
       "    </tr>\n",
       "  </thead>\n",
       "  <tbody>\n",
       "    <tr>\n",
       "      <th>2025-01-23</th>\n",
       "      <td>0.000000</td>\n",
       "      <td>0.000000</td>\n",
       "      <td>-0.777180</td>\n",
       "      <td>5.0</td>\n",
       "      <td>1</td>\n",
       "      <td>1.0</td>\n",
       "    </tr>\n",
       "    <tr>\n",
       "      <th>2025-01-24</th>\n",
       "      <td>0.797693</td>\n",
       "      <td>0.982986</td>\n",
       "      <td>-0.089695</td>\n",
       "      <td>5.0</td>\n",
       "      <td>2</td>\n",
       "      <td>1.0</td>\n",
       "    </tr>\n",
       "    <tr>\n",
       "      <th>2025-01-25</th>\n",
       "      <td>0.152760</td>\n",
       "      <td>-1.482798</td>\n",
       "      <td>1.273267</td>\n",
       "      <td>5.0</td>\n",
       "      <td>3</td>\n",
       "      <td>NaN</td>\n",
       "    </tr>\n",
       "    <tr>\n",
       "      <th>2025-01-26</th>\n",
       "      <td>-1.254234</td>\n",
       "      <td>0.468886</td>\n",
       "      <td>-0.263169</td>\n",
       "      <td>5.0</td>\n",
       "      <td>4</td>\n",
       "      <td>NaN</td>\n",
       "    </tr>\n",
       "  </tbody>\n",
       "</table>\n",
       "</div>"
      ],
      "text/plain": [
       "                   A         B         C    D  F    E\n",
       "2025-01-23  0.000000  0.000000 -0.777180  5.0  1  1.0\n",
       "2025-01-24  0.797693  0.982986 -0.089695  5.0  2  1.0\n",
       "2025-01-25  0.152760 -1.482798  1.273267  5.0  3  NaN\n",
       "2025-01-26 -1.254234  0.468886 -0.263169  5.0  4  NaN"
      ]
     },
     "execution_count": 55,
     "metadata": {},
     "output_type": "execute_result"
    }
   ],
   "source": [
    "df1"
   ]
  },
  {
   "cell_type": "markdown",
   "id": "d7b04828",
   "metadata": {},
   "source": [
    "결측치를 하나라도 가지고 있는 row를 삭제한다."
   ]
  },
  {
   "cell_type": "code",
   "execution_count": 56,
   "id": "961986aa",
   "metadata": {},
   "outputs": [
    {
     "data": {
      "text/html": [
       "<div>\n",
       "<style scoped>\n",
       "    .dataframe tbody tr th:only-of-type {\n",
       "        vertical-align: middle;\n",
       "    }\n",
       "\n",
       "    .dataframe tbody tr th {\n",
       "        vertical-align: top;\n",
       "    }\n",
       "\n",
       "    .dataframe thead th {\n",
       "        text-align: right;\n",
       "    }\n",
       "</style>\n",
       "<table border=\"1\" class=\"dataframe\">\n",
       "  <thead>\n",
       "    <tr style=\"text-align: right;\">\n",
       "      <th></th>\n",
       "      <th>A</th>\n",
       "      <th>B</th>\n",
       "      <th>C</th>\n",
       "      <th>D</th>\n",
       "      <th>F</th>\n",
       "      <th>E</th>\n",
       "    </tr>\n",
       "  </thead>\n",
       "  <tbody>\n",
       "    <tr>\n",
       "      <th>2025-01-23</th>\n",
       "      <td>0.000000</td>\n",
       "      <td>0.000000</td>\n",
       "      <td>-0.777180</td>\n",
       "      <td>5.0</td>\n",
       "      <td>1</td>\n",
       "      <td>1.0</td>\n",
       "    </tr>\n",
       "    <tr>\n",
       "      <th>2025-01-24</th>\n",
       "      <td>0.797693</td>\n",
       "      <td>0.982986</td>\n",
       "      <td>-0.089695</td>\n",
       "      <td>5.0</td>\n",
       "      <td>2</td>\n",
       "      <td>1.0</td>\n",
       "    </tr>\n",
       "  </tbody>\n",
       "</table>\n",
       "</div>"
      ],
      "text/plain": [
       "                   A         B         C    D  F    E\n",
       "2025-01-23  0.000000  0.000000 -0.777180  5.0  1  1.0\n",
       "2025-01-24  0.797693  0.982986 -0.089695  5.0  2  1.0"
      ]
     },
     "execution_count": 56,
     "metadata": {},
     "output_type": "execute_result"
    }
   ],
   "source": [
    "df1.dropna(how='any')"
   ]
  },
  {
   "cell_type": "markdown",
   "id": "b03b26fa",
   "metadata": {},
   "source": [
    "결측치를 채워넣는다."
   ]
  },
  {
   "cell_type": "code",
   "execution_count": 57,
   "id": "25f41c44",
   "metadata": {},
   "outputs": [
    {
     "data": {
      "text/html": [
       "<div>\n",
       "<style scoped>\n",
       "    .dataframe tbody tr th:only-of-type {\n",
       "        vertical-align: middle;\n",
       "    }\n",
       "\n",
       "    .dataframe tbody tr th {\n",
       "        vertical-align: top;\n",
       "    }\n",
       "\n",
       "    .dataframe thead th {\n",
       "        text-align: right;\n",
       "    }\n",
       "</style>\n",
       "<table border=\"1\" class=\"dataframe\">\n",
       "  <thead>\n",
       "    <tr style=\"text-align: right;\">\n",
       "      <th></th>\n",
       "      <th>A</th>\n",
       "      <th>B</th>\n",
       "      <th>C</th>\n",
       "      <th>D</th>\n",
       "      <th>F</th>\n",
       "      <th>E</th>\n",
       "    </tr>\n",
       "  </thead>\n",
       "  <tbody>\n",
       "    <tr>\n",
       "      <th>2025-01-23</th>\n",
       "      <td>0.000000</td>\n",
       "      <td>0.000000</td>\n",
       "      <td>-0.777180</td>\n",
       "      <td>5.0</td>\n",
       "      <td>1</td>\n",
       "      <td>1.0</td>\n",
       "    </tr>\n",
       "    <tr>\n",
       "      <th>2025-01-24</th>\n",
       "      <td>0.797693</td>\n",
       "      <td>0.982986</td>\n",
       "      <td>-0.089695</td>\n",
       "      <td>5.0</td>\n",
       "      <td>2</td>\n",
       "      <td>1.0</td>\n",
       "    </tr>\n",
       "    <tr>\n",
       "      <th>2025-01-25</th>\n",
       "      <td>0.152760</td>\n",
       "      <td>-1.482798</td>\n",
       "      <td>1.273267</td>\n",
       "      <td>5.0</td>\n",
       "      <td>3</td>\n",
       "      <td>5.0</td>\n",
       "    </tr>\n",
       "    <tr>\n",
       "      <th>2025-01-26</th>\n",
       "      <td>-1.254234</td>\n",
       "      <td>0.468886</td>\n",
       "      <td>-0.263169</td>\n",
       "      <td>5.0</td>\n",
       "      <td>4</td>\n",
       "      <td>5.0</td>\n",
       "    </tr>\n",
       "  </tbody>\n",
       "</table>\n",
       "</div>"
      ],
      "text/plain": [
       "                   A         B         C    D  F    E\n",
       "2025-01-23  0.000000  0.000000 -0.777180  5.0  1  1.0\n",
       "2025-01-24  0.797693  0.982986 -0.089695  5.0  2  1.0\n",
       "2025-01-25  0.152760 -1.482798  1.273267  5.0  3  5.0\n",
       "2025-01-26 -1.254234  0.468886 -0.263169  5.0  4  5.0"
      ]
     },
     "execution_count": 57,
     "metadata": {},
     "output_type": "execute_result"
    }
   ],
   "source": [
    "df1.fillna(value=5)"
   ]
  },
  {
   "cell_type": "markdown",
   "id": "f05538b1",
   "metadata": {},
   "source": [
    "NaN인 값에 boolean을 통한 표식을 얻는다.\n",
    "\n",
    "DataFrame의 모든 값이 boolean 형태로 표시되도록 하며, `NaN`인 값에만 `True`가 표시되게 하는 함수"
   ]
  },
  {
   "cell_type": "code",
   "execution_count": 58,
   "id": "fa6e0c09",
   "metadata": {},
   "outputs": [
    {
     "data": {
      "text/html": [
       "<div>\n",
       "<style scoped>\n",
       "    .dataframe tbody tr th:only-of-type {\n",
       "        vertical-align: middle;\n",
       "    }\n",
       "\n",
       "    .dataframe tbody tr th {\n",
       "        vertical-align: top;\n",
       "    }\n",
       "\n",
       "    .dataframe thead th {\n",
       "        text-align: right;\n",
       "    }\n",
       "</style>\n",
       "<table border=\"1\" class=\"dataframe\">\n",
       "  <thead>\n",
       "    <tr style=\"text-align: right;\">\n",
       "      <th></th>\n",
       "      <th>A</th>\n",
       "      <th>B</th>\n",
       "      <th>C</th>\n",
       "      <th>D</th>\n",
       "      <th>F</th>\n",
       "      <th>E</th>\n",
       "    </tr>\n",
       "  </thead>\n",
       "  <tbody>\n",
       "    <tr>\n",
       "      <th>2025-01-23</th>\n",
       "      <td>False</td>\n",
       "      <td>False</td>\n",
       "      <td>False</td>\n",
       "      <td>False</td>\n",
       "      <td>False</td>\n",
       "      <td>False</td>\n",
       "    </tr>\n",
       "    <tr>\n",
       "      <th>2025-01-24</th>\n",
       "      <td>False</td>\n",
       "      <td>False</td>\n",
       "      <td>False</td>\n",
       "      <td>False</td>\n",
       "      <td>False</td>\n",
       "      <td>False</td>\n",
       "    </tr>\n",
       "    <tr>\n",
       "      <th>2025-01-25</th>\n",
       "      <td>False</td>\n",
       "      <td>False</td>\n",
       "      <td>False</td>\n",
       "      <td>False</td>\n",
       "      <td>False</td>\n",
       "      <td>True</td>\n",
       "    </tr>\n",
       "    <tr>\n",
       "      <th>2025-01-26</th>\n",
       "      <td>False</td>\n",
       "      <td>False</td>\n",
       "      <td>False</td>\n",
       "      <td>False</td>\n",
       "      <td>False</td>\n",
       "      <td>True</td>\n",
       "    </tr>\n",
       "  </tbody>\n",
       "</table>\n",
       "</div>"
      ],
      "text/plain": [
       "                A      B      C      D      F      E\n",
       "2025-01-23  False  False  False  False  False  False\n",
       "2025-01-24  False  False  False  False  False  False\n",
       "2025-01-25  False  False  False  False  False   True\n",
       "2025-01-26  False  False  False  False  False   True"
      ]
     },
     "execution_count": 58,
     "metadata": {},
     "output_type": "execute_result"
    }
   ],
   "source": [
    "pd.isna(df1)"
   ]
  },
  {
   "cell_type": "code",
   "execution_count": null,
   "id": "0f3637fe",
   "metadata": {},
   "outputs": [],
   "source": []
  }
 ],
 "metadata": {
  "kernelspec": {
   "display_name": "3.10.12",
   "language": "python",
   "name": "python3"
  },
  "language_info": {
   "codemirror_mode": {
    "name": "ipython",
    "version": 3
   },
   "file_extension": ".py",
   "mimetype": "text/x-python",
   "name": "python",
   "nbconvert_exporter": "python",
   "pygments_lexer": "ipython3",
   "version": "3.10.12"
  }
 },
 "nbformat": 4,
 "nbformat_minor": 5
}
