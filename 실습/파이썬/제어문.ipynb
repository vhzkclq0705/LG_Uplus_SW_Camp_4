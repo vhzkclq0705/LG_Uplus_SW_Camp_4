{
 "cells": [
  {
   "cell_type": "markdown",
   "metadata": {},
   "source": [
    "# 파이썬 문법의 기초 - 제어문\n",
    "\n",
    "**if, while, for문에 관한 기본 내용**\n",
    "\n",
    "## if문\n",
    "\n",
    "- 주어진 조건을 판단한 후 그 상황에 맞게 처리해야 할 경우 사용"
   ]
  },
  {
   "cell_type": "markdown",
   "metadata": {},
   "source": [
    "### 기본 구조\n",
    "\n",
    "- if와 else를 사용하여 구현\n",
    "- 조건문이 참이면 if 블록 수행\n",
    "- 조건문이 거짓이면 else 블록 수행"
   ]
  },
  {
   "cell_type": "code",
   "execution_count": 1,
   "metadata": {},
   "outputs": [
    {
     "name": "stdout",
     "output_type": "stream",
     "text": [
      "택시를 타고 가라\n"
     ]
    }
   ],
   "source": [
    "# 돈이 있으면 택시를 타고 가고, 돈이 없으면 걸어간다.\n",
    "\n",
    "money = True\n",
    "if money:\n",
    "    print(\"택시를 타고 가라\")\n",
    "else:\n",
    "    print(\"걸어가라\")"
   ]
  },
  {
   "cell_type": "markdown",
   "metadata": {},
   "source": [
    "### 들여쓰기\n",
    "\n",
    "- if문을 만들 때는 if 조건문 바로 다음 문장부터 모든 문장에 들여쓰기를 해야함\n",
    "- 들여쓰기를 무시하는 경우 오류 발생\n",
    "\n",
    "### 조건문\n",
    "\n",
    "- if 조건문에서 `조건문`이란 `참과 거짓을 판단하는 문장`이다.  \n",
    "e.g. `if money:` 에서 `money` 부분 \n",
    "\n",
    "### 비교 연산자\n",
    "\n",
    "- if 조건문에 비교 연산자를 사용할 수 있음\n",
    "\n",
    "|비교 연산자|설명|\n",
    "|---|---|\n",
    "|x < y|x가 y보다 작다.|\n",
    "|x > y|x가 y보다 크다.|\n",
    "|x == y|x와 y가 같다.|\n",
    "|x != y|x와 y가 같지 않다.|\n",
    "|x >= y|x가 y보다 크거나 같다.|\n",
    "|x <= y|x가 y보다 작거나 같다.|\n",
    "\n",
    "### and, or, not 연산자\n",
    "\n",
    "|연산자|설명|\n",
    "|---|---|\n",
    "|x or y|x와 y 둘 중 하나만 참이어도 참이다.|\n",
    "|x and y|x와 y가 모두 참이어야 참이다.|\n",
    "|not x|x가 거짓이면 참이다.|\n",
    "\n",
    "### in, not in\n",
    "\n",
    "- a in b: a가 b 안에 있는가?\n",
    "- a not in b: a가 b 안에 없는가?\n",
    "\n",
    "|in|not in|\n",
    "|---|---|\n",
    "|x in 리스트|x not in 리스트|\n",
    "|x in 튜플|x not in 튜플|\n",
    "|x in 문자열|x not in 문자열|\n",
    "\n",
    "### elif\n",
    "\n",
    "- if와 else만으로는 조건 판단에 어려움이 있음\n",
    "- if와 else만으로는 이해하기 어렵고 계속해서 들여쓰기를 해야하여 어렵고 산만해짐\n",
    "- elif는 이전 조건문이 거짓일 때 수행됨\n",
    "- 개수에 제한이 없음"
   ]
  },
  {
   "cell_type": "code",
   "execution_count": 2,
   "metadata": {},
   "outputs": [
    {
     "name": "stdout",
     "output_type": "stream",
     "text": [
      "택시를 타고 가라\n"
     ]
    }
   ],
   "source": [
    "pocket = ['paper', 'cellphone']\n",
    "card = True\n",
    "\n",
    "if 'money' in pocket: # 주머니에 돈이 있으면\n",
    "    print('택시를 타고 가라')\n",
    "elif card: # 주머니에 돈이 없고 카드가 있으면\n",
    "    print('택시를 타고 가라')\n",
    "else: # 주머니에 돈이 없고 카드도 없으면\n",
    "    print('걸어가라')"
   ]
  },
  {
   "cell_type": "markdown",
   "metadata": {},
   "source": [
    "## While문\n",
    "\n",
    "- 반복해서 문장을 수행해야 할 경우 while문 사용\n",
    "- 반복문이라고도 부름\n",
    "- while 문은 조건문이 참인 동안에 while문에 속한 문장이 반복해서 수향됨\n",
    "\n",
    "### 1부터 50까지의 합"
   ]
  },
  {
   "cell_type": "code",
   "execution_count": 3,
   "metadata": {},
   "outputs": [
    {
     "data": {
      "text/plain": [
       "1275"
      ]
     },
     "execution_count": 3,
     "metadata": {},
     "output_type": "execute_result"
    }
   ],
   "source": [
    "cnt = 1\n",
    "result = 0\n",
    "\n",
    "while cnt <= 50:\n",
    "    result += cnt\n",
    "    cnt += 1\n",
    "\n",
    "result"
   ]
  },
  {
   "cell_type": "markdown",
   "metadata": {},
   "source": [
    "### 강제 탈출\n",
    "\n",
    "- 강제로 while 문을 빠져나가야 할 때 `break`문 사용"
   ]
  },
  {
   "cell_type": "code",
   "execution_count": 4,
   "metadata": {},
   "outputs": [
    {
     "name": "stdout",
     "output_type": "stream",
     "text": [
      "돈을 받았으니 커피를 줍니다.\n",
      "남은 커피의 양은 9개 입니다\n",
      "돈을 받았으니 커피를 줍니다.\n",
      "남은 커피의 양은 8개 입니다\n",
      "돈을 받았으니 커피를 줍니다.\n",
      "남은 커피의 양은 7개 입니다\n",
      "돈을 받았으니 커피를 줍니다.\n",
      "남은 커피의 양은 6개 입니다\n",
      "돈을 받았으니 커피를 줍니다.\n",
      "남은 커피의 양은 5개 입니다\n",
      "돈을 받았으니 커피를 줍니다.\n",
      "남은 커피의 양은 4개 입니다\n",
      "돈을 받았으니 커피를 줍니다.\n",
      "남은 커피의 양은 3개 입니다\n",
      "돈을 받았으니 커피를 줍니다.\n",
      "남은 커피의 양은 2개 입니다\n",
      "돈을 받았으니 커피를 줍니다.\n",
      "남은 커피의 양은 1개 입니다\n",
      "돈을 받았으니 커피를 줍니다.\n",
      "남은 커피의 양은 0개 입니다\n",
      "커피가 다 떨어졌습니다. 판매를 중지합니다.\n"
     ]
    }
   ],
   "source": [
    "coffee = 10 # 자판기에 커피가 10개 있다\n",
    "money = 300 # 자판기에 넣을 돈은 300원이다\n",
    "\n",
    "while money: # 돈이 남아있으면\n",
    "    print('돈을 받았으니 커피를 줍니다.')\n",
    "    coffee -= 1 # while문을 한 번 돌 때마다 커피가 1개씩 감소\n",
    "    print('남은 커피의 양은 %d개 입니다' % coffee)\n",
    "    \n",
    "    if not coffee: # 커피의 개수가 0개면\n",
    "        print('커피가 다 떨어졌습니다. 판매를 중지합니다.')\n",
    "        break # 강제 탈출(즉시 종료)\n",
    "\n",
    "# money가 300으로 고정되어있어, while문의 조건문은 항상 참 -> 무한 루프\n",
    "# break문을 통해 커피가 다 떨어지면 while문 종료"
   ]
  },
  {
   "cell_type": "markdown",
   "metadata": {},
   "source": [
    "### 처음으로 돌아가기\n",
    "\n",
    "- while문을 빠져나가지 않고 while문의 맨 처음(조건문)으로 다시 돌아가야 할 때 사용"
   ]
  },
  {
   "cell_type": "code",
   "execution_count": 5,
   "metadata": {},
   "outputs": [
    {
     "name": "stdout",
     "output_type": "stream",
     "text": [
      "1\n",
      "3\n",
      "5\n",
      "7\n",
      "9\n"
     ]
    }
   ],
   "source": [
    "a = 0\n",
    "while a < 10:\n",
    "    a += 1\n",
    "    if a % 2 == 0: # a를 2로 나누었을 때 나머지가 0이면, 맨 처음(while a < 10: 부분)으로 돌아간다\n",
    "        continue\n",
    "    print(a)"
   ]
  },
  {
   "cell_type": "markdown",
   "metadata": {},
   "source": [
    "### 무한 루프\n",
    "\n",
    "- 무한히 반복한다는 뜻의 무한 루프\n",
    "- 파이썬에서의 무한 루프는 while문으로 구현\n",
    "    - while문의 조건문이 True이므로 항상 참 -> while문 안에 있는 문장들은 무한 수행"
   ]
  },
  {
   "cell_type": "markdown",
   "metadata": {},
   "source": [
    "## for문\n",
    "\n",
    "- 리스트나 튜플, 문자열의 첫 번째 요소부터 마지막 요소까지 차례로 변수에 대입되어 내부 문장이 수행됨"
   ]
  },
  {
   "cell_type": "markdown",
   "metadata": {},
   "source": [
    "### 전형적인 for문 1"
   ]
  },
  {
   "cell_type": "code",
   "execution_count": 6,
   "metadata": {},
   "outputs": [
    {
     "name": "stdout",
     "output_type": "stream",
     "text": [
      "one\n",
      "two\n",
      "three\n"
     ]
    }
   ],
   "source": [
    "example_list = ['one', 'two', 'three']\n",
    "for i in example_list: # one, two, three를 순서대로 i에 대입\n",
    "    print(i)"
   ]
  },
  {
   "cell_type": "markdown",
   "metadata": {},
   "source": [
    "### 다양한 for문의 사용"
   ]
  },
  {
   "cell_type": "code",
   "execution_count": 7,
   "metadata": {},
   "outputs": [
    {
     "name": "stdout",
     "output_type": "stream",
     "text": [
      "3\n",
      "7\n",
      "11\n"
     ]
    }
   ],
   "source": [
    "a = [(1, 2), (3, 4), (5, 6)]\n",
    "for (first, last) in a:\n",
    "    print(first + last)"
   ]
  },
  {
   "cell_type": "markdown",
   "metadata": {},
   "source": [
    "### for문의 응용"
   ]
  },
  {
   "cell_type": "code",
   "execution_count": 8,
   "metadata": {},
   "outputs": [
    {
     "name": "stdout",
     "output_type": "stream",
     "text": [
      "1번 학생은 합격입니다.\n",
      "2번 학생은 불합격입니다.\n",
      "3번 학생은 합격입니다.\n",
      "4번 학생은 불합격입니다.\n",
      "5번 학생은 합격입니다.\n"
     ]
    }
   ],
   "source": [
    "# 점수가 60점 이상이면 합격, 그렇지 않으면 불합격인 학생들의 합격 여부 표시\n",
    "\n",
    "scores = [90, 25, 67, 45, 80] # 시험 점수\n",
    "num = 1\n",
    "\n",
    "for score in scores:\n",
    "    print(f'{num}번 학생은 {\"합격\" if score >= 60 else \"불합격\"}입니다.')\n",
    "    num += 1"
   ]
  },
  {
   "cell_type": "markdown",
   "metadata": {},
   "source": [
    "### continue\n",
    "\n",
    "- for문 안의 문장을 수행하는 도중 continue문을 만나면 for문의 처음으로 돌아감(while문과 동일)"
   ]
  },
  {
   "cell_type": "markdown",
   "metadata": {},
   "source": [
    "### range\n",
    "\n",
    "- 범위 안에 포함되는 range 객체를 만들어줌\n",
    "\n",
    "- range(a, b)\n",
    "    - a: 시작 숫자\n",
    "    - b: 끝 숫자(반환 범위에 포함되지 않음)"
   ]
  },
  {
   "cell_type": "code",
   "execution_count": 9,
   "metadata": {},
   "outputs": [
    {
     "name": "stdout",
     "output_type": "stream",
     "text": [
      "2 x 1 = 2, 2 x 2 = 4, 2 x 3 = 6, 2 x 4 = 8, 2 x 5 = 10, 2 x 6 = 12, 2 x 7 = 14, 2 x 8 = 16, 2 x 9 = 18, \n",
      "3 x 1 = 3, 3 x 2 = 6, 3 x 3 = 9, 3 x 4 = 12, 3 x 5 = 15, 3 x 6 = 18, 3 x 7 = 21, 3 x 8 = 24, 3 x 9 = 27, \n",
      "4 x 1 = 4, 4 x 2 = 8, 4 x 3 = 12, 4 x 4 = 16, 4 x 5 = 20, 4 x 6 = 24, 4 x 7 = 28, 4 x 8 = 32, 4 x 9 = 36, \n",
      "5 x 1 = 5, 5 x 2 = 10, 5 x 3 = 15, 5 x 4 = 20, 5 x 5 = 25, 5 x 6 = 30, 5 x 7 = 35, 5 x 8 = 40, 5 x 9 = 45, \n",
      "6 x 1 = 6, 6 x 2 = 12, 6 x 3 = 18, 6 x 4 = 24, 6 x 5 = 30, 6 x 6 = 36, 6 x 7 = 42, 6 x 8 = 48, 6 x 9 = 54, \n",
      "7 x 1 = 7, 7 x 2 = 14, 7 x 3 = 21, 7 x 4 = 28, 7 x 5 = 35, 7 x 6 = 42, 7 x 7 = 49, 7 x 8 = 56, 7 x 9 = 63, \n",
      "8 x 1 = 8, 8 x 2 = 16, 8 x 3 = 24, 8 x 4 = 32, 8 x 5 = 40, 8 x 6 = 48, 8 x 7 = 56, 8 x 8 = 64, 8 x 9 = 72, \n",
      "9 x 1 = 9, 9 x 2 = 18, 9 x 3 = 27, 9 x 4 = 36, 9 x 5 = 45, 9 x 6 = 54, 9 x 7 = 63, 9 x 8 = 72, 9 x 9 = 81, \n"
     ]
    }
   ],
   "source": [
    "# 구구단 구현\n",
    "\n",
    "for i in range(2, 10):\n",
    "    for j in range(1, 10):\n",
    "        print(f'{i} x {j} = {i * j},', end=\" \")\n",
    "    print()"
   ]
  },
  {
   "cell_type": "markdown",
   "metadata": {},
   "source": [
    "### 리스트 컴프리헨션(list comprehension)\n",
    "\n",
    "- 리스트 안에 for문 포함\n",
    "- 리스트 컴프리헨션 안에 `if문` 사용 가능\n",
    "- for문 여러 개 사용 가능"
   ]
  },
  {
   "cell_type": "code",
   "execution_count": 10,
   "metadata": {},
   "outputs": [
    {
     "data": {
      "text/plain": [
       "[4, 5, 6, 7, 8, 9, 10, 11, 12, 13]"
      ]
     },
     "execution_count": 10,
     "metadata": {},
     "output_type": "execute_result"
    }
   ],
   "source": [
    "# 1부터 10까지 숫자 배열의 각 요소에 3씩 더하여 출력\n",
    "\n",
    "a = range(1, 11)\n",
    "result = [num + 3 for num in a]\n",
    "\n",
    "result"
   ]
  },
  {
   "cell_type": "code",
   "execution_count": 11,
   "metadata": {},
   "outputs": [
    {
     "data": {
      "text/plain": [
       "[1, 3, 5, 7, 9]"
      ]
     },
     "execution_count": 11,
     "metadata": {},
     "output_type": "execute_result"
    }
   ],
   "source": [
    "# 홀수 출력\n",
    "\n",
    "a = range(1, 11)\n",
    "result = [num for num in a if num % 2 == 1]\n",
    "\n",
    "result"
   ]
  },
  {
   "cell_type": "code",
   "execution_count": 12,
   "metadata": {},
   "outputs": [
    {
     "name": "stdout",
     "output_type": "stream",
     "text": [
      "[2, 4, 6, 8, 10, 12, 14, 16, 18, 3, 6, 9, 12, 15, 18, 21, 24, 27, 4, 8, 12, 16, 20, 24, 28, 32, 36, 5, 10, 15, 20, 25, 30, 35, 40, 45, 6, 12, 18, 24, 30, 36, 42, 48, 54, 7, 14, 21, 28, 35, 42, 49, 56, 63, 8, 16, 24, 32, 40, 48, 56, 64, 72, 9, 18, 27, 36, 45, 54, 63, 72, 81]\n"
     ]
    }
   ],
   "source": [
    "# 구구단의 결과 담기\n",
    "\n",
    "result = [x * y for x in range(2, 10) for y in range(1, 10)]\n",
    "\n",
    "print(result)"
   ]
  }
 ],
 "metadata": {
  "kernelspec": {
   "display_name": "Python 3",
   "language": "python",
   "name": "python3"
  },
  "language_info": {
   "codemirror_mode": {
    "name": "ipython",
    "version": 3
   },
   "file_extension": ".py",
   "mimetype": "text/x-python",
   "name": "python",
   "nbconvert_exporter": "python",
   "pygments_lexer": "ipython3",
   "version": "3.9.7"
  }
 },
 "nbformat": 4,
 "nbformat_minor": 2
}
