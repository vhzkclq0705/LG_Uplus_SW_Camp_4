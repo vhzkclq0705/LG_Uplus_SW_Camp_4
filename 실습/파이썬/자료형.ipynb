{
 "cells": [
  {
   "cell_type": "markdown",
   "metadata": {},
   "source": [
    "# 파이썬 문법의 기초 - 자료형\n",
    "\n",
    "## 문자열(String)\n",
    "\n",
    "문자, 단어 등으로 구성된 문자들의 집합\n",
    "\n",
    "### 문자열 생성 방법\n",
    "\n",
    "- 큰따옴표(\")\n",
    "- 작은따옴표(')\n",
    "- 큰따옴표 3개(\"\"\")\n",
    "- 작은따옴표 3개(''')"
   ]
  },
  {
   "cell_type": "code",
   "execution_count": null,
   "metadata": {},
   "outputs": [],
   "source": [
    "example_string = \"Hello, World\"\n",
    "example_string"
   ]
  },
  {
   "cell_type": "code",
   "execution_count": null,
   "metadata": {},
   "outputs": [],
   "source": [
    "example_string = 'Hello, World'\n",
    "example_string"
   ]
  },
  {
   "cell_type": "code",
   "execution_count": null,
   "metadata": {},
   "outputs": [],
   "source": [
    "example_string = \"\"\"Hello, World\"\"\"\n",
    "example_string"
   ]
  },
  {
   "cell_type": "code",
   "execution_count": null,
   "metadata": {},
   "outputs": [],
   "source": [
    "example_string = '''Hello, World'''\n",
    "example_string"
   ]
  },
  {
   "cell_type": "markdown",
   "metadata": {},
   "source": [
    "### 문자열에 작은따옴표나 큰따옴표 포함\n",
    "\n",
    "- 작은따옴표(')를 큰따옴표(\")로 둘러싸기\n",
    "- 큰따옴표(\")를 작은따옴표(')로 둘러싸기\n",
    "- 역슬래시(\\) 사용하기"
   ]
  },
  {
   "cell_type": "code",
   "execution_count": null,
   "metadata": {},
   "outputs": [],
   "source": [
    "example_string = \"Python's favorite food\"\n",
    "example_string"
   ]
  },
  {
   "cell_type": "code",
   "execution_count": null,
   "metadata": {},
   "outputs": [],
   "source": [
    "example_string = '\"Python is easy\" he says.'\n",
    "example_string"
   ]
  },
  {
   "cell_type": "code",
   "execution_count": null,
   "metadata": {},
   "outputs": [],
   "source": [
    "example_string = 'Python\\'s favorite food'\n",
    "example_string"
   ]
  },
  {
   "cell_type": "code",
   "execution_count": null,
   "metadata": {},
   "outputs": [],
   "source": [
    "example_string = \"\\\"Python is easy\\\" he says.\"\n",
    "example_string"
   ]
  },
  {
   "cell_type": "markdown",
   "metadata": {},
   "source": [
    "### 여러 줄인 문자열을 변수에 대입\n",
    "\n",
    "- 이스케이프 코드 `\\n` 삽입\n",
    "- 작은따옴표 3개(''')\n",
    "- 큰따옴표 3개(\"\"\")"
   ]
  },
  {
   "cell_type": "code",
   "execution_count": null,
   "metadata": {},
   "outputs": [],
   "source": [
    "example_string = 'Hello!!\\nNice to meet you!'\n",
    "example_string"
   ]
  },
  {
   "cell_type": "code",
   "execution_count": null,
   "metadata": {},
   "outputs": [],
   "source": [
    "example_string = '''\n",
    "Hello!\n",
    "Nice to meet you!\n",
    "'''\n",
    "example_string"
   ]
  },
  {
   "cell_type": "code",
   "execution_count": null,
   "metadata": {},
   "outputs": [],
   "source": [
    "example_string = \"\"\"\n",
    "Hello!\n",
    "Nice to meet you!\n",
    "\"\"\"\n",
    "example_string"
   ]
  },
  {
   "cell_type": "markdown",
   "metadata": {},
   "source": [
    "### 문자열 연산\n",
    "\n",
    "- 문자열 덧셈\n",
    "- 문자열 곱셈\n",
    "- 문자열 길이"
   ]
  },
  {
   "cell_type": "code",
   "execution_count": null,
   "metadata": {},
   "outputs": [],
   "source": [
    "example_string1 = \"Python\"\n",
    "example_string2 = \"is easy!\""
   ]
  },
  {
   "cell_type": "code",
   "execution_count": null,
   "metadata": {},
   "outputs": [],
   "source": [
    "example_string1 + example_string2 # 덧셈"
   ]
  },
  {
   "cell_type": "code",
   "execution_count": null,
   "metadata": {},
   "outputs": [],
   "source": [
    "example_string1 * 3 # 곱셈"
   ]
  },
  {
   "cell_type": "code",
   "execution_count": null,
   "metadata": {},
   "outputs": [],
   "source": [
    "len(example_string1) # 길이"
   ]
  },
  {
   "cell_type": "markdown",
   "metadata": {},
   "source": [
    "### 인덱싱(Indexing)\n",
    "\n",
    "string[번호]\n",
    "\n",
    "> 인덱스는 0부터 시작\n",
    "\n",
    "문자열 안의 특정 값을 뽑아냄\n",
    "\n",
    "마이너스(-)인 경우 뒤부터 셈"
   ]
  },
  {
   "cell_type": "code",
   "execution_count": null,
   "metadata": {},
   "outputs": [],
   "source": [
    "example_string[0] # 가장 첫 문자"
   ]
  },
  {
   "cell_type": "code",
   "execution_count": null,
   "metadata": {},
   "outputs": [],
   "source": [
    "example_string[-1] # 가장 마지막 문자"
   ]
  },
  {
   "cell_type": "markdown",
   "metadata": {},
   "source": [
    "### 슬라이싱(Slicing)\n",
    "\n",
    "string[시작 번호: 끝 번호]\n",
    "\n",
    "시작 번호부터 끝 번호 직전 까지의 문자를 뽑아냄"
   ]
  },
  {
   "cell_type": "code",
   "execution_count": null,
   "metadata": {},
   "outputs": [],
   "source": [
    "example_string[:3] # 처음부터 3번째(인덱스 2까지) 문자"
   ]
  },
  {
   "cell_type": "code",
   "execution_count": null,
   "metadata": {},
   "outputs": [],
   "source": [
    "example_string[2:] # 세번째(0부터 시작이라)부터 끝까지 문자"
   ]
  },
  {
   "cell_type": "markdown",
   "metadata": {},
   "source": [
    "### 문자열 포매팅(Formatting)\n",
    "\n",
    "문자열 안에 특정 값을 삽입하는 방법\n",
    "\n",
    "#### 숫자\n",
    "\n",
    "문자열 포맷 코드 `%d`"
   ]
  },
  {
   "cell_type": "code",
   "execution_count": null,
   "metadata": {},
   "outputs": [],
   "source": [
    "'I eat %d apples.' % 3"
   ]
  },
  {
   "cell_type": "code",
   "execution_count": null,
   "metadata": {},
   "outputs": [],
   "source": [
    "example_apple_num = 3\n",
    "'I eat %d apples.' % example_apple_num"
   ]
  },
  {
   "cell_type": "markdown",
   "metadata": {},
   "source": [
    "#### 문자열\n",
    "\n",
    "문자열 포맷 코드 `%s`"
   ]
  },
  {
   "cell_type": "code",
   "execution_count": null,
   "metadata": {},
   "outputs": [],
   "source": [
    "example_days = 5\n",
    "\"I eat %s apples.\" % example_days"
   ]
  },
  {
   "cell_type": "markdown",
   "metadata": {},
   "source": [
    "#### 2개 이상의 값"
   ]
  },
  {
   "cell_type": "code",
   "execution_count": null,
   "metadata": {},
   "outputs": [],
   "source": [
    "\"I ate %d apples so I was sick for %s days.\" % (example_apple_num, example_days)"
   ]
  },
  {
   "cell_type": "markdown",
   "metadata": {},
   "source": [
    "### 포맷 코드 + 숫자\n",
    "\n",
    "\n",
    "#### 정렬과 공백\n",
    "\n",
    "`%s`를 숫자와 함께 사용ㅇ하면, 공백과 정렬 표현 가능"
   ]
  },
  {
   "cell_type": "code",
   "execution_count": null,
   "metadata": {},
   "outputs": [],
   "source": [
    "\"%10s\" % \"Hi\" # Hi가 오른쪽 정렬됨\n",
    "# 전체 길이 10 중 공백이 앞에 8개, 문자가 뒤에 2개"
   ]
  },
  {
   "cell_type": "code",
   "execution_count": null,
   "metadata": {},
   "outputs": [],
   "source": [
    "\"%-10sjerry!\" % \"Hi\" # Hi가 왼쪽 정렬됨\n",
    "# 길이 10 중 문자가 앞에 2개, 뒤에 공백이 8개 + jerry"
   ]
  },
  {
   "cell_type": "markdown",
   "metadata": {},
   "source": [
    "#### 소수점 표현\n",
    "\n",
    "`%d`를 숫자와 함께 사용하면, 소수점 뒤에 나올 숫자의 개수 조절 및 정렬 가능"
   ]
  },
  {
   "cell_type": "code",
   "execution_count": null,
   "metadata": {},
   "outputs": [],
   "source": [
    "\"%0.4f\" % 1.234567 # 소수점 4자리까지"
   ]
  },
  {
   "cell_type": "code",
   "execution_count": null,
   "metadata": {},
   "outputs": [],
   "source": [
    "\"10.4f\" % 1.234567\n",
    "# 총 길이 10 중, \"1\"과 \".\", 뒤에 소수점 4자리 \"2345\"가 오른쪽 정렬되고 앞에 공백 4개"
   ]
  },
  {
   "cell_type": "markdown",
   "metadata": {},
   "source": [
    "### format 함수 사용\n",
    "\n",
    "#### 숫자 바로 대입"
   ]
  },
  {
   "cell_type": "code",
   "execution_count": null,
   "metadata": {},
   "outputs": [],
   "source": [
    "\"I eat {0} apples.\".format(3)"
   ]
  },
  {
   "cell_type": "markdown",
   "metadata": {},
   "source": [
    "#### 숫자 값을 가진 변수 대입"
   ]
  },
  {
   "cell_type": "code",
   "execution_count": null,
   "metadata": {},
   "outputs": [],
   "source": [
    "\"I eat {0} apples.\".format(example_apple_num)"
   ]
  },
  {
   "cell_type": "markdown",
   "metadata": {},
   "source": [
    "#### 문자열 바로 대입"
   ]
  },
  {
   "cell_type": "code",
   "execution_count": null,
   "metadata": {},
   "outputs": [],
   "source": [
    "\"I eat {0} apples.\".format(\"five\")"
   ]
  },
  {
   "cell_type": "markdown",
   "metadata": {},
   "source": [
    "#### 2개 이상의 값 넣기"
   ]
  },
  {
   "cell_type": "code",
   "execution_count": null,
   "metadata": {},
   "outputs": [],
   "source": [
    "\"I ate {0} apples so I was sick for {1} days.\".format(example_apple_num, example_days)"
   ]
  },
  {
   "cell_type": "markdown",
   "metadata": {},
   "source": [
    "#### 이름으로 넣기"
   ]
  },
  {
   "cell_type": "code",
   "execution_count": null,
   "metadata": {},
   "outputs": [],
   "source": [
    "\"I ate {number} apples so I was sick for {day} days.\".format(number=10, day=5)"
   ]
  },
  {
   "cell_type": "markdown",
   "metadata": {},
   "source": [
    "#### 인덱스와 이름 혼용"
   ]
  },
  {
   "cell_type": "code",
   "execution_count": null,
   "metadata": {},
   "outputs": [],
   "source": [
    "\"I date {0} apples so I was sick for {day} days.\".format(10, day=5)"
   ]
  },
  {
   "cell_type": "markdown",
   "metadata": {},
   "source": [
    "#### 정렬"
   ]
  },
  {
   "cell_type": "code",
   "execution_count": null,
   "metadata": {},
   "outputs": [],
   "source": [
    "\"{0:<10}\".format(\"Hi\") # 왼쪽 정렬"
   ]
  },
  {
   "cell_type": "code",
   "execution_count": null,
   "metadata": {},
   "outputs": [],
   "source": [
    "\"{0:>10}\".format(\"Hi\") # 오른쪽 정렬"
   ]
  },
  {
   "cell_type": "code",
   "execution_count": null,
   "metadata": {},
   "outputs": [],
   "source": [
    "\"{0:^10}\".format(\"Hi\") # 가운데 정렬"
   ]
  }
 ],
 "metadata": {
  "language_info": {
   "name": "python"
  }
 },
 "nbformat": 4,
 "nbformat_minor": 2
}
